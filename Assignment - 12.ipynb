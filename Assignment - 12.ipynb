{
 "cells": [
  {
   "cell_type": "markdown",
   "id": "6d0a48d8",
   "metadata": {},
   "source": [
    "## Basic Python Assignment - 12"
   ]
  },
  {
   "cell_type": "markdown",
   "id": "e150345d",
   "metadata": {},
   "source": [
    "### 1. In what modes should the PdfFileReader() and PdfFileWriter() File objects will be opened?\n",
    "\n",
    "**Ans.** These files will be opened in binary mode., read binary (rb) for PdfFileREader() and write binary (wb) PdfFileWriter()"
   ]
  },
  {
   "cell_type": "markdown",
   "id": "c5b5fc3e",
   "metadata": {},
   "source": [
    "### 2. From a PdfFileReader object, how do you get a Page object for page 5?\n",
    "\n",
    "**Ans.** Calling getPage(4) will return a Page object for page 5 since page 0 is the first page"
   ]
  },
  {
   "cell_type": "code",
   "execution_count": 1,
   "id": "6dcd2b40",
   "metadata": {},
   "outputs": [
    {
     "name": "stdout",
     "output_type": "stream",
     "text": [
      "Collecting PyPDF2\n",
      "  Downloading PyPDF2-1.26.0.tar.gz (77 kB)\n",
      "Building wheels for collected packages: PyPDF2\n",
      "  Building wheel for PyPDF2 (setup.py): started\n",
      "  Building wheel for PyPDF2 (setup.py): finished with status 'done'\n",
      "  Created wheel for PyPDF2: filename=PyPDF2-1.26.0-py3-none-any.whl size=61085 sha256=d2131d2df2aad0f7b5f1aecb90c14d6c4f3282f5cf57bb60642b2751ce181d37\n",
      "  Stored in directory: c:\\users\\ssc\\appdata\\local\\pip\\cache\\wheels\\b1\\1a\\8f\\a4c34be976825a2f7948d0fa40907598d69834f8ab5889de11\n",
      "Successfully built PyPDF2\n",
      "Installing collected packages: PyPDF2\n",
      "Successfully installed PyPDF2-1.26.0\n"
     ]
    }
   ],
   "source": [
    "!pip install PyPDF2"
   ]
  },
  {
   "cell_type": "code",
   "execution_count": 2,
   "id": "9a941f62",
   "metadata": {},
   "outputs": [
    {
     "data": {
      "text/plain": [
       "'BOARD MINUTES\\n -4- MARCH 7, 2014\\n   5.1.\\n9 On motion of Dr. Miranti, seconded by Mr. Lee, \\nthe Board \\napproved\\n, as a \\nNotice of Intent, revisions to Bulletin 1566, \\nPupil Progression Policies and \\nProcedures\\n:  §503.  Regular Placement\\n, as presented by the LDE\\n.  5.1.\\n10 On motion of Dr. Miranti, seconded by Mr. Lee, \\nthe Board \\napproved\\n, as a \\nNotice of Intent, revisions to Bulletin 111, \\nThe Louisiana School, District, \\nand State Accountability System\\n: §301. School Performance Score Goal; \\n§303. Transition from Fall 2013 to Sp\\nring 2015; §413. Dropout/Credit \\nAccumulation Index Calculations; §517. Inclusion of Schools; §521. \\nPairing/Sharing of Schools with Insufficient Test Data; §603. Determining \\na Cohort for \\na Graduation; §611. Documenting a Graduation Index; \\n§1301. Reward Elig\\nibility; §2301. Schools Requiring \\nReconstitution/Alternate Governance Plans; §3101. Appeals/Waivers and \\nData Certification Processes; §3301. Inclusion of New Schools; §3303. \\nReconfigured Schools; §4101. Valid Data Considerations; §4301. \\nInclusion of All Di\\nstricts; and §4317. District Accountability Data \\nCorrections\\n, as presented by the LDE\\n.  Dr. Beebe was recorded as being opposed to the motion.\\n  5.1.\\n11 On motion of \\nDr. Miranti,\\n seconded by \\nMr. Lee,\\n the Board receive\\nd the \\nSummary of Public Comments and Age\\nncy Response regarding revisions\\n to Bulletin 135, \\nHealth and Safety\\n:  Chapter 5. \\n Injury Management \\nProgram Rules for Serious Sports Injuries and Chapter 7: Glossary, and \\ndirect\\ned BESE staff to pr\\noceed\\n with the final adoption of the January 20, \\n2014, Notic\\ne of Intent regarding revisions to Bulletin 135, \\nHealth and \\nSafety\\n, Chapters 5 and\\n 7.  Agenda\\n Item 5.2.\\n Administration and Finance Committee\\n (Schedule 3)\\n   5.2.\\n1 On motion of \\nMr. Guillot,\\n seconded by \\nMr. Lee\\n, the Board \\nreceived\\n the \\nreport on 8(g) monitor\\ning visits conducted by Board staff.\\n  5.2.\\n2 On motion of Mr. Guillot, seconded by Mr. Lee, \\nthe Board \\nreceived\\n the \\nquarterly report from the LDE Director of Internal Audit.\\n  5.2.\\n3 On motion of Mr. Guillot, seconded by Mr. Lee, \\nthe Board \\nreceived\\n the \\nrepor\\nt on LDE contracts of $50,000 and under approved by the State \\nSuperintendent of Education.\\n  '"
      ]
     },
     "execution_count": 2,
     "metadata": {},
     "output_type": "execute_result"
    }
   ],
   "source": [
    "import PyPDF2 as pdf\n",
    "pdfFileObj = open(\"file.pdf\",'rb')\n",
    "pdfReader = pdf.PdfFileReader(pdfFileObj)\n",
    "pageObj = pdfReader.getPage(4)\n",
    "pageObj.extractText()"
   ]
  },
  {
   "cell_type": "markdown",
   "id": "b1a4fd8a",
   "metadata": {},
   "source": [
    "### 3. What PdfFileReader variable stores the number of pages in the PDF document?\n",
    "\n",
    "**Ans.** The PdfFileReader.numPages variable stores an integer of the number of pages in the PdfFileReader object"
   ]
  },
  {
   "cell_type": "code",
   "execution_count": 3,
   "id": "f5c56ab9",
   "metadata": {},
   "outputs": [
    {
     "data": {
      "text/plain": [
       "19"
      ]
     },
     "execution_count": 3,
     "metadata": {},
     "output_type": "execute_result"
    }
   ],
   "source": [
    "import PyPDF2 as pdf\n",
    "pdfFileObj = open(\"file.pdf\",'rb')\n",
    "pdfReader = pdf.PdfFileReader(pdfFileObj)\n",
    "pdfReader.numPages"
   ]
  },
  {
   "cell_type": "markdown",
   "id": "1564467f",
   "metadata": {},
   "source": [
    "### 4. If a PdfFileReader object’s PDF is encrypted with the password swordfish, what must you do before you can obtain Page objects from it?\n",
    "\n",
    "**Ans.** before we obtain the page object, the pdf has to be decrypted by calling .decrypt('swordfish').\n",
    "\n",
    "**pdfReader.decrypt('swordfish')**"
   ]
  },
  {
   "cell_type": "markdown",
   "id": "15dc4e40",
   "metadata": {},
   "source": [
    "### 5. What methods do you use to rotate a page?\n",
    "\n",
    "**Ans.** The rotateClockwise() and rotateCounterClockwise() methods. The degrees to rotate is passed as an integer argument.\n",
    "\n",
    "**pageObj.rotateClockwise(180)**"
   ]
  },
  {
   "cell_type": "markdown",
   "id": "1b3107ab",
   "metadata": {},
   "source": [
    "### 6. What is the difference between a Run object and a Paragraph object?\n",
    "\n",
    "**Ans. Paragraph Object :**  A document contains multiple paragraphs. A paragraph begins on a new line and contains multiple runs. \n",
    "\n",
    "The Document object contains a list of Paragraph objects for the paragraphs in the document. (A new paragraph begins \n",
    "whenever the user presses ENTER or RETURN while typing in a Word document.)\n",
    "\n",
    "**Run Objects :**Runs are contiguous groups of characters within a paragraph with the same style."
   ]
  },
  {
   "cell_type": "markdown",
   "id": "e58c53e7",
   "metadata": {},
   "source": [
    "### 7. How do you obtain a list of Paragraph objects for a Document object that’s stored in a variable named doc?\n",
    "\n",
    ">By using doc.paragraphs"
   ]
  },
  {
   "cell_type": "code",
   "execution_count": 5,
   "id": "4d846d68",
   "metadata": {},
   "outputs": [
    {
     "data": {
      "text/plain": [
       "[<docx.text.paragraph.Paragraph at 0x1e93612f790>,\n",
       " <docx.text.paragraph.Paragraph at 0x1e93612ff40>,\n",
       " <docx.text.paragraph.Paragraph at 0x1e93612fbe0>,\n",
       " <docx.text.paragraph.Paragraph at 0x1e93612f610>,\n",
       " <docx.text.paragraph.Paragraph at 0x1e93612fb80>,\n",
       " <docx.text.paragraph.Paragraph at 0x1e93612fe80>,\n",
       " <docx.text.paragraph.Paragraph at 0x1e93612fc10>]"
      ]
     },
     "execution_count": 5,
     "metadata": {},
     "output_type": "execute_result"
    }
   ],
   "source": [
    "#!pip install python-docx\n",
    "import docx\n",
    "doc = docx.Document('demo.docx')\n",
    "doc.paragraphs"
   ]
  },
  {
   "cell_type": "markdown",
   "id": "9f6e314d",
   "metadata": {},
   "source": [
    "### 8. What type of object has bold, underline, italic, strike, and outline variables?\n",
    "\n",
    "**Ans.** A Run object has bold, underline,italic,strike and outline variables"
   ]
  },
  {
   "cell_type": "markdown",
   "id": "74deae71",
   "metadata": {},
   "source": [
    "### 9. What is the difference between False, True, and None for the bold variable?\n",
    "\n",
    "**Ans.** \n",
    "\n",
    "    Runs can be further styled using text attributes. Each attribute can be set to one of three values: \n",
    "    True (the attribute is always enabled, no matter what other styles are applied to the run), \n",
    "    False (the attribute is always disabled),\n",
    "    None (defaults to whatever the run’s style is set to)\n",
    "\n",
    "    True always makes the Run object bolded and False makes it always not bolded, no matter what the style’s bold setting  is. None will make the Run object just use the style’s bold setting"
   ]
  },
  {
   "cell_type": "markdown",
   "id": "6ed1aa2d",
   "metadata": {},
   "source": [
    "### 10. How do you create a Document object for a new Word document?\n",
    "\n",
    ">By Calling the docx.Document() function."
   ]
  },
  {
   "cell_type": "markdown",
   "id": "aa5ecebd",
   "metadata": {},
   "source": [
    "### 11. How do you add a paragraph with the text &#39;Hello, there!&#39; to a Document object stored in a variable named doc?"
   ]
  },
  {
   "cell_type": "code",
   "execution_count": 6,
   "id": "db6fec26",
   "metadata": {},
   "outputs": [],
   "source": [
    "import docx\n",
    "doc = docx.Document()\n",
    "\n",
    "doc.add_paragraph('Hello there!')\n",
    "doc.save('hellothere.docx')"
   ]
  },
  {
   "cell_type": "markdown",
   "id": "ed5057fc",
   "metadata": {},
   "source": [
    "### 12. What integers represent the levels of headings available in Word documents?\n",
    "\n",
    "**Ans.**\n",
    "\n",
    "The arguments to add_heading() are a string of the heading text and an integer from 0 to 4. The integer 0 makes the heading the Title style, which is used for the top of the document. Integers 1 to 4 are for various heading levels, with 1 being the main heading and 4 the lowest subheading"
   ]
  },
  {
   "cell_type": "code",
   "execution_count": null,
   "id": "309c4d44",
   "metadata": {},
   "outputs": [],
   "source": []
  }
 ],
 "metadata": {
  "kernelspec": {
   "display_name": "Python 3",
   "language": "python",
   "name": "python3"
  },
  "language_info": {
   "codemirror_mode": {
    "name": "ipython",
    "version": 3
   },
   "file_extension": ".py",
   "mimetype": "text/x-python",
   "name": "python",
   "nbconvert_exporter": "python",
   "pygments_lexer": "ipython3",
   "version": "3.8.8"
  }
 },
 "nbformat": 4,
 "nbformat_minor": 5
}
