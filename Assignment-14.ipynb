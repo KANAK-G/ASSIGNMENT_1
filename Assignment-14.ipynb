{
 "cells": [
  {
   "cell_type": "markdown",
   "id": "798175cd",
   "metadata": {},
   "source": [
    "## Python Basic Assignment - 14"
   ]
  },
  {
   "cell_type": "markdown",
   "id": "bfcfd138",
   "metadata": {},
   "source": [
    "### 1. What does RGBA stand for?\n",
    "\n",
    "**Ans.**1. RGBA stands for red, green, blue, and alpha (transparency) in the color.\n",
    "\n",
    "2. An RGBA value is a tuple of 4 integers, each ranging from 0 to 255. \n",
    "\n",
    "3. The four integers correspond to the amount of red, green, blue, and alpha (transparency) in the color   "
   ]
  },
  {
   "cell_type": "markdown",
   "id": "b2502bc8",
   "metadata": {},
   "source": [
    "### 2. From the Pillow module, how do you get the RGBA value of any images?"
   ]
  },
  {
   "cell_type": "code",
   "execution_count": 1,
   "id": "3f58c34f",
   "metadata": {},
   "outputs": [
    {
     "data": {
      "text/plain": [
       "(0, 128, 0, 255)"
      ]
     },
     "execution_count": 1,
     "metadata": {},
     "output_type": "execute_result"
    }
   ],
   "source": [
    "from PIL import ImageColor\n",
    "ImageColor.getcolor('red', 'RGBA')\n",
    "ImageColor.getcolor('green', 'RGBA')"
   ]
  },
  {
   "cell_type": "markdown",
   "id": "89ef3942",
   "metadata": {},
   "source": [
    "### 3. What is a box tuple, and how does it work?\n",
    "\n",
    "**Ans.** A box tuple is a tuple value of four integers: the left edge x-coordinate, the top edge y-coordinate, the width, and the height, respectively"
   ]
  },
  {
   "cell_type": "markdown",
   "id": "f005073f",
   "metadata": {},
   "source": [
    "### 4. Use your image and load in notebook then, How can you find out the width and height of an Image object?"
   ]
  },
  {
   "cell_type": "code",
   "execution_count": 2,
   "id": "09e44fd7",
   "metadata": {},
   "outputs": [
    {
     "data": {
      "text/plain": [
       "(636, 808)"
      ]
     },
     "execution_count": 2,
     "metadata": {},
     "output_type": "execute_result"
    }
   ],
   "source": [
    "from PIL import Image\n",
    "myImg = Image.open('kanak.jpeg')\n",
    "w,h = myImg.size\n",
    "w,h"
   ]
  },
  {
   "cell_type": "markdown",
   "id": "d2506554",
   "metadata": {},
   "source": [
    "### 5. What method would you call to get Image object for a 100×100 image, excluding the lower-left quarter of it?\n",
    "\n",
    "ImageObject.crop((0, 50, 50, 50))"
   ]
  },
  {
   "cell_type": "markdown",
   "id": "5d532f1d",
   "metadata": {},
   "source": [
    "### 6. After making changes to an Image object, how could you save it as an image file?\n",
    "\n",
    "**Ans.** By Calling the imageObj.save('new_filename.png') method of the Image object."
   ]
  },
  {
   "cell_type": "markdown",
   "id": "fe80905c",
   "metadata": {},
   "source": [
    "### 7. What module contains Pillow’s shape-drawing code?\n",
    "\n",
    "**Ans.** The ImageDraw module contains code to draw on images."
   ]
  },
  {
   "cell_type": "markdown",
   "id": "eb895709",
   "metadata": {},
   "source": [
    "### 8. Image objects do not have drawing methods. What kind of object does? How do you get this kind of object?\n",
    "\n",
    "**Ans.** ImageDraw objects have shape-drawing methods such as point(), line(), or rectangle(). They are returned by passing the Image object to the ImageDraw.Draw() function"
   ]
  }
 ],
 "metadata": {
  "kernelspec": {
   "display_name": "Python 3",
   "language": "python",
   "name": "python3"
  },
  "language_info": {
   "codemirror_mode": {
    "name": "ipython",
    "version": 3
   },
   "file_extension": ".py",
   "mimetype": "text/x-python",
   "name": "python",
   "nbconvert_exporter": "python",
   "pygments_lexer": "ipython3",
   "version": "3.8.8"
  }
 },
 "nbformat": 4,
 "nbformat_minor": 5
}
