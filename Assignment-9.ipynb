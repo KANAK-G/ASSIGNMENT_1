{
 "cells": [
  {
   "cell_type": "markdown",
   "id": "476b0ba2",
   "metadata": {},
   "source": [
    "## Python Basic Assignment - 9\n"
   ]
  },
  {
   "cell_type": "markdown",
   "id": "e9aa6b74",
   "metadata": {},
   "source": [
    "### 1. To what does a relative path refer?\n",
    "\n",
    "**Ans.**Relative path means the path of a certain file relative to the current working directory.The relative path changes depending upon the current working directory."
   ]
  },
  {
   "cell_type": "markdown",
   "id": "9d5f6bd2",
   "metadata": {},
   "source": [
    "### 2. What does an absolute path start with your operating system?\n",
    "\n",
    "**Ans.**An absolute path refers to the complete details needed to locate a file or folder, starting from the root element and ending with the other subdirectories.\n",
    "\n",
    "Absolute paths are used in websites and operating systems for locating files and folders. An absolute path is also known as an absolute pathname or full path."
   ]
  },
  {
   "cell_type": "code",
   "execution_count": 1,
   "id": "e1b84edb",
   "metadata": {},
   "outputs": [
    {
     "data": {
      "text/plain": [
       "'C:\\\\Users\\\\ssc\\\\Assignment folder'"
      ]
     },
     "execution_count": 1,
     "metadata": {},
     "output_type": "execute_result"
    }
   ],
   "source": [
    "pwd"
   ]
  },
  {
   "cell_type": "markdown",
   "id": "3dbe3026",
   "metadata": {},
   "source": [
    "### 3. What do the functions os.getcwd() and os.chdir() do?\n",
    "\n",
    "**Ans. os.getcwd()** get the current working directory as a string value.**os.chdir()** change the current working directory to the argument."
   ]
  },
  {
   "cell_type": "code",
   "execution_count": 8,
   "id": "24519bb7",
   "metadata": {},
   "outputs": [
    {
     "name": "stdout",
     "output_type": "stream",
     "text": [
      "current woring directory C:\\Users\\ssc\n",
      "changed woring directory C:\\Users\n"
     ]
    }
   ],
   "source": [
    "import os\n",
    "print(f'current woring directory {os.getcwd()}')\n",
    "os.chdir(\"C:\\\\Users\")\n",
    "print(f'changed woring directory {os.getcwd()}')\n"
   ]
  },
  {
   "cell_type": "markdown",
   "id": "c111f2d5",
   "metadata": {},
   "source": [
    "### 4. What are the . and .. folders?\n",
    "\n",
    "**Ans.**A single period (.) for a folder name is shorthand for \"this directory.\" Two periods (..) means \"the parent folder.\""
   ]
  },
  {
   "cell_type": "markdown",
   "id": "29e4c99a",
   "metadata": {},
   "source": [
    "### 5. In C:\\bacon\\eggs\\spam.txt, which part is the dir name, and which part is the base name?\n",
    "\n",
    "**Ans.**C:\\bacon\\eggs is the dir name, while spam.txt is the base name."
   ]
  },
  {
   "cell_type": "markdown",
   "id": "850685b8",
   "metadata": {},
   "source": [
    "### 6. What are the three “mode” arguments that can be passed to the open() function?\n",
    "\n",
    "**Ans.** Read mode: open('test.txt', 'r'), \n",
    "\n",
    "     Write mode: open('test.txt', 'w'),\n",
    "\n",
    "    Append mode: open('test.txt', 'a')."
   ]
  },
  {
   "cell_type": "markdown",
   "id": "cee56716",
   "metadata": {},
   "source": [
    "### 7. What happens if an existing file is opened in write mode?\n",
    "\n",
    "**Ans.** It will overwrite the existing file and start from scratch, just like when you overwrite a variable's value with a new value."
   ]
  },
  {
   "cell_type": "markdown",
   "id": "eb6f50f2",
   "metadata": {},
   "source": [
    "### 8. How do you tell the difference between read() and readlines()?\n",
    "\n",
    "**Ans.**read() method returns the contents of a file as a single large string value.\n",
    "\n",
    "readline() method get a list of string values from the file, one string for each line of text."
   ]
  },
  {
   "cell_type": "markdown",
   "id": "b9b17ade",
   "metadata": {},
   "source": [
    "### 9. What data structure does a shelf value resemble?\n",
    "\n",
    "**Ans.**A shelf value resemble dictionary data structure."
   ]
  },
  {
   "cell_type": "code",
   "execution_count": null,
   "id": "3638f46d",
   "metadata": {},
   "outputs": [],
   "source": []
  }
 ],
 "metadata": {
  "kernelspec": {
   "display_name": "Python 3",
   "language": "python",
   "name": "python3"
  },
  "language_info": {
   "codemirror_mode": {
    "name": "ipython",
    "version": 3
   },
   "file_extension": ".py",
   "mimetype": "text/x-python",
   "name": "python",
   "nbconvert_exporter": "python",
   "pygments_lexer": "ipython3",
   "version": "3.8.8"
  }
 },
 "nbformat": 4,
 "nbformat_minor": 5
}
