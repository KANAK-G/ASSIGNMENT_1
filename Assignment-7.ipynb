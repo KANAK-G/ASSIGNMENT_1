{
 "cells": [
  {
   "cell_type": "markdown",
   "id": "39307a3c",
   "metadata": {},
   "source": [
    "## Python Basic Asssignment - "
   ]
  },
  {
   "cell_type": "markdown",
   "id": "b1fa34c6",
   "metadata": {},
   "source": [
    "### 1. What is the name of the feature responsible for generating Regex objects?\n",
    "\n",
    "import re\n",
    "\n",
    "re.compile(pattern) -  The re.compile() function returns Regex objects."
   ]
  },
  {
   "cell_type": "code",
   "execution_count": 1,
   "id": "72a0e88e",
   "metadata": {},
   "outputs": [
    {
     "data": {
      "text/plain": [
       "re.compile(r'assignment', re.UNICODE)"
      ]
     },
     "execution_count": 1,
     "metadata": {},
     "output_type": "execute_result"
    }
   ],
   "source": [
    "import re\n",
    "re.compile(\"assignment\")"
   ]
  },
  {
   "cell_type": "markdown",
   "id": "c9ba42b2",
   "metadata": {},
   "source": [
    "### 2. Why do raw strings often appear in Regex objects?\n",
    "\n",
    "**Ans.** Raw strings are used so that backslashes do not have to be escaped.\n",
    "\n",
    "\n",
    "### 3. What is the return value of the search() method?\n",
    "\n",
    "**Ans.** The search() method searches a string for a specified value, and returns the position of the match.The search value can be string or a regular expression. This method returns -1 if no match is found.\n",
    "\n",
    "\n",
    "### 4. From a Match item, how do you get the actual strings that match the pattern?\n",
    "\n",
    "**Ans.**Calling matchingObject.group() will return the string."
   ]
  },
  {
   "cell_type": "code",
   "execution_count": 2,
   "id": "243dd494",
   "metadata": {},
   "outputs": [
    {
     "name": "stdout",
     "output_type": "stream",
     "text": [
      "Phone number found: 415-555-4242\n"
     ]
    }
   ],
   "source": [
    "phoneNumRegex = re.compile(r'\\d\\d\\d-\\d\\d\\d-\\d\\d\\d\\d')\n",
    "m = phoneNumRegex.search('My number is 415-555-4242.')\n",
    "print('Phone number found: ' + m.group())"
   ]
  },
  {
   "cell_type": "markdown",
   "id": "aab4b3f7",
   "metadata": {},
   "source": [
    "### 5. In the regex which created from the r'(\\d\\d\\d)-(\\d\\d\\d-\\d\\d\\d\\d)', what does group zero cover? Group 2? Group 1?\n",
    "\n",
    "**Ans.**regex: (\\d\\d\\d)-(\\d\\d\\d-\\d\\d\\d\\d)\n",
    "\n",
    "    The first set of parentheses in a regex string will be group 1. \n",
    "    \n",
    "    The second set will be group 2. \n",
    "    \n",
    "    By passing the integer 1 or 2 to the group() match object method, you can grab different parts of the matched text. \n",
    "    \n",
    "    Passing 0 or nothing to the group() method will return the entire matched text"
   ]
  },
  {
   "cell_type": "code",
   "execution_count": 3,
   "id": "dc683807",
   "metadata": {},
   "outputs": [
    {
     "data": {
      "text/plain": [
       "'415'"
      ]
     },
     "execution_count": 3,
     "metadata": {},
     "output_type": "execute_result"
    }
   ],
   "source": [
    "phoneNumRegex = re.compile(r'(\\d\\d\\d)-(\\d\\d\\d-\\d\\d\\d\\d)')\n",
    "m = phoneNumRegex.search('My number is 415-555-4242.')\n",
    "m.group(1)"
   ]
  },
  {
   "cell_type": "code",
   "execution_count": 4,
   "id": "af79b46a",
   "metadata": {},
   "outputs": [
    {
     "data": {
      "text/plain": [
       "'555-4242'"
      ]
     },
     "execution_count": 4,
     "metadata": {},
     "output_type": "execute_result"
    }
   ],
   "source": [
    "m.group(2)"
   ]
  },
  {
   "cell_type": "code",
   "execution_count": 5,
   "id": "71dab19b",
   "metadata": {},
   "outputs": [
    {
     "data": {
      "text/plain": [
       "'415-555-4242'"
      ]
     },
     "execution_count": 5,
     "metadata": {},
     "output_type": "execute_result"
    }
   ],
   "source": [
    "m.group(0)"
   ]
  },
  {
   "cell_type": "code",
   "execution_count": 6,
   "id": "2ca1c176",
   "metadata": {},
   "outputs": [
    {
     "data": {
      "text/plain": [
       "'415-555-4242'"
      ]
     },
     "execution_count": 6,
     "metadata": {},
     "output_type": "execute_result"
    }
   ],
   "source": [
    "m.group()"
   ]
  },
  {
   "cell_type": "markdown",
   "id": "d510a701",
   "metadata": {},
   "source": [
    "### 6. In standard expression syntax, parentheses and intervals have distinct meanings. How can you tell a regex that you want it to fit real parentheses and periods?\n",
    "\n",
    "**Ans.** Periods and parentheses can be escaped with a backslash: \\., \\(, and \\).\n",
    "\n",
    "\n",
    "### 7. The findall() method returns a string list or a list of string tuples. What causes it to return one of the two options?\n",
    "\n",
    "**Ans.** If the regex has no groups, a list of strings is returned. If the regex has groups, a list of tuples of strings is \n",
    "returned.\n",
    "\n",
    "\n",
    "### 8. In standard expressions, what does the | character mean?\n",
    "\n",
    "**Ans.** The | character is called a pipe. You can use it anywhere you want to match one of many expressions. \n",
    "For example, the regular expression r'Blue|Red Fruit' will match either 'Blue' or 'Red'.\n",
    "\n",
    "When both Blue and Red occur in the searched string, the first occurrence of matching text will be \n",
    "returned as the Match object.\n",
    "\n",
    "The | character signifies matching “either, or” between two groups"
   ]
  },
  {
   "cell_type": "code",
   "execution_count": 8,
   "id": "027b8562",
   "metadata": {},
   "outputs": [
    {
     "data": {
      "text/plain": [
       "'Blue'"
      ]
     },
     "execution_count": 8,
     "metadata": {},
     "output_type": "execute_result"
    }
   ],
   "source": [
    "Regex = re.compile (r'Blue|Red')\n",
    "m =Regex.search('Blue and Red')\n",
    "m.group()"
   ]
  },
  {
   "cell_type": "code",
   "execution_count": 9,
   "id": "548612b3",
   "metadata": {},
   "outputs": [
    {
     "data": {
      "text/plain": [
       "'Red'"
      ]
     },
     "execution_count": 9,
     "metadata": {},
     "output_type": "execute_result"
    }
   ],
   "source": [
    "m1 = Regex.search('Red and Blue')\n",
    "m1.group()"
   ]
  },
  {
   "cell_type": "markdown",
   "id": "a292957b",
   "metadata": {},
   "source": [
    "### 9. In regular expressions, what does the ? character stand for?The ? character can either mean “match zero or one of the preceding group”.\n",
    "\n",
    "**Ans.**Sometimes there is a pattern that you want to match only optionally. That is, the regex should find a match regardless of whether that bit of text is there. The ? character flags the group that precedes it as an optional part of the pattern."
   ]
  },
  {
   "cell_type": "markdown",
   "id": "9c5e6627",
   "metadata": {},
   "source": [
    "### 10.In regular expressions, what is the difference between the + and * characters?\n",
    "\n",
    "**Ans.**The + matches one or more. The * matches zero or more\n",
    "\n",
    "\n",
    "### 11. What is the difference between {4} and {4,5} in regular expression?\n",
    "\n",
    "**Ans.** The {3} matches exactly three instances of the preceding group. \n",
    "\n",
    "The {3,5} matches between three and five instances.\n",
    "\n",
    "\n",
    "### 12. What do you mean by the \\d, \\w, and \\s shorthand character classes signify in regular expressions?\n",
    "\n",
    "**Ans.** The \\d, stands for single digit, Any numeric digit from 0 to 9\n",
    "\n",
    "\\w, stands for single word, Any letter, numeric digit, or the underscore character. (Think of this as matching “word” \n",
    "characters.)\n",
    "\n",
    "\\s stands for single space character, Any space, tab, or newline character. (Think of this as matching “space” \n",
    "characters.)\n",
    "\n",
    "\n",
    "### 13. What do means by \\D, \\W, and \\S shorthand character classes signify in regular expressions?\n",
    "\n",
    "**Ans.** \\D - > Any character that is not a numeric digit from 0 to 9. \n",
    "\n",
    "\\W - > Any character that is not a letter, numeric digit, or the underscore character.\n",
    "\n",
    "\\S - > Any character that is not a space, tab, or newline.\n",
    "\n",
    "\n",
    "### 14. What is the difference between .? and .?\n",
    "\n",
    "**Ans.** .* - > The dot-star uses greedy mode: It will always try to match as much text as possible.\n",
    "\n",
    ".*? - > To match any and all text in a non-greedy fashion, use the dot, star, and question mark (.*?). Like with braces, \n",
    "the question mark tells Python to match in a non-greedy way."
   ]
  },
  {
   "cell_type": "code",
   "execution_count": 11,
   "id": "65872066",
   "metadata": {},
   "outputs": [
    {
     "data": {
      "text/plain": [
       "'<To serve man> for dinner.>'"
      ]
     },
     "execution_count": 11,
     "metadata": {},
     "output_type": "execute_result"
    }
   ],
   "source": [
    "greedyRegex = re.compile(r'<.*>')\n",
    "m = greedyRegex.search('<To serve man> for dinner.>')\n",
    "m.group()"
   ]
  },
  {
   "cell_type": "code",
   "execution_count": 12,
   "id": "a5f05660",
   "metadata": {},
   "outputs": [
    {
     "data": {
      "text/plain": [
       "'<To serve man>'"
      ]
     },
     "execution_count": 12,
     "metadata": {},
     "output_type": "execute_result"
    }
   ],
   "source": [
    "nongreedyRegex = re.compile(r'<.*?>')\n",
    "mo = nongreedyRegex.search('<To serve man> for dinner.>')\n",
    "mo.group()"
   ]
  },
  {
   "cell_type": "markdown",
   "id": "ef6bbe31",
   "metadata": {},
   "source": [
    "### 15. What is the syntax for matching both numbers and lowercase letters with a character class?\n",
    "\n",
    "**Ans.** Either [0-9a-z] or [a-z0-9]"
   ]
  },
  {
   "cell_type": "code",
   "execution_count": 13,
   "id": "144c5194",
   "metadata": {},
   "outputs": [
    {
     "data": {
      "text/plain": [
       "'1'"
      ]
     },
     "execution_count": 13,
     "metadata": {},
     "output_type": "execute_result"
    }
   ],
   "source": [
    "reg1 = re.compile(r'[0-9a-z]')\n",
    "reg2 = re.compile(r'[a-z0-9]')\n",
    "\n",
    "mo1 = reg1.search('100 times I am watching  this for 100 th time')\n",
    "mo1.group()"
   ]
  },
  {
   "cell_type": "code",
   "execution_count": 14,
   "id": "a8353f6f",
   "metadata": {},
   "outputs": [
    {
     "data": {
      "text/plain": [
       "'t'"
      ]
     },
     "execution_count": 14,
     "metadata": {},
     "output_type": "execute_result"
    }
   ],
   "source": [
    "reg2 = re.compile(r'[a-z0-9]')\n",
    "\n",
    "mo1 = reg2.search('times I am Reading  this for 100 th time')\n",
    "mo1.group()"
   ]
  },
  {
   "cell_type": "markdown",
   "id": "a4828360",
   "metadata": {},
   "source": [
    "### 16. What is the procedure for making a normal expression in regax case insensitive?\n",
    "\n",
    "**Ans.** Passing re.I or re.IGNORECASE as the second argument to re.compile() will make the matching case insensitive"
   ]
  },
  {
   "cell_type": "code",
   "execution_count": 15,
   "id": "e672c128",
   "metadata": {},
   "outputs": [
    {
     "data": {
      "text/plain": [
       "'Machine'"
      ]
     },
     "execution_count": 15,
     "metadata": {},
     "output_type": "execute_result"
    }
   ],
   "source": [
    "casesen = re.compile(r'machine', re.I)\n",
    "casesen.search('Machine learning is part of data science').group()"
   ]
  },
  {
   "cell_type": "code",
   "execution_count": 16,
   "id": "57d07c00",
   "metadata": {},
   "outputs": [
    {
     "data": {
      "text/plain": [
       "'MACHINE'"
      ]
     },
     "execution_count": 16,
     "metadata": {},
     "output_type": "execute_result"
    }
   ],
   "source": [
    "casesen.search('MACHINE is learning.').group()"
   ]
  },
  {
   "cell_type": "markdown",
   "id": "f19d182d",
   "metadata": {},
   "source": [
    "### 17. What does the . character normally match? What does it match if re.DOTALL is passed as 2nd argument in re.compile()?\n",
    "\n",
    "**Ans.** The . character normally matches any character except the newline character. If re.DOTALL is passed as the second argument to re.compile(), then the dot will also match newline characters.\n",
    "\n",
    "\n",
    "### 18. If numRegex = re.compile(r'\\d+'), what will numRegex.sub('X', '11 drummers, 10 pipers, five rings, 4 hen') return?"
   ]
  },
  {
   "cell_type": "code",
   "execution_count": 17,
   "id": "bc17cf1c",
   "metadata": {},
   "outputs": [
    {
     "data": {
      "text/plain": [
       "'X drummers, X pipers, five rings, X hen'"
      ]
     },
     "execution_count": 17,
     "metadata": {},
     "output_type": "execute_result"
    }
   ],
   "source": [
    "numRegex = re.compile(r'\\d+')\n",
    "mo = numRegex.sub('X', '11 drummers, 10 pipers, five rings, 4 hen')\n",
    "mo"
   ]
  },
  {
   "cell_type": "markdown",
   "id": "f9e80592",
   "metadata": {},
   "source": [
    "### 19. What does passing re.VERBOSE as the 2nd argument to re.compile() allow to do?\n",
    "\n",
    "**Ans.** The re.VERBOSE argument allows you to add whitespace and comments to the string passed to re.compile()\n",
    "\n",
    "\n",
    "### 20. How would you write a regex that match a number with comma for every three digits? It must match the given following:\n",
    "\n",
    "**Ans.** '42'\n",
    "\n",
    "'1,234'\n",
    "\n",
    "'6,368,745'\n",
    "\n",
    " but not the following:\n",
    "\n",
    "'12,34,567' (which has only two digits between the commas)\n",
    "\n",
    "'1234' (which lacks commas)"
   ]
  },
  {
   "cell_type": "code",
   "execution_count": 19,
   "id": "27e2a7f4",
   "metadata": {},
   "outputs": [
    {
     "data": {
      "text/plain": [
       "'42'"
      ]
     },
     "execution_count": 19,
     "metadata": {},
     "output_type": "execute_result"
    }
   ],
   "source": [
    "reg1 = re.compile(r'^\\d{1,3}(,\\d{3})*$')\n",
    "mo1 = reg1.search('42')\n",
    "mo1.group()"
   ]
  },
  {
   "cell_type": "code",
   "execution_count": 20,
   "id": "2ebe213d",
   "metadata": {},
   "outputs": [
    {
     "data": {
      "text/plain": [
       "'1,234'"
      ]
     },
     "execution_count": 20,
     "metadata": {},
     "output_type": "execute_result"
    }
   ],
   "source": [
    "reg1 = re.compile(r'^\\d{1,3}(,\\d{3})*$')\n",
    "mo1 = reg1.search('1,234')\n",
    "mo1.group()"
   ]
  },
  {
   "cell_type": "markdown",
   "id": "82f42718",
   "metadata": {},
   "source": [
    "### 21. How would you write a regex that matches the full name of someone whose last name is Watanabe? You can assume that the first name that comes before it will always be one word that begins with a capital letter. The regex must match the following:\n",
    "\n",
    "    **Ans.** 'Haruto Watanabe'\n",
    "\n",
    "    'Alice Watanabe'\n",
    "\n",
    "    'RoboCop Watanabe'\n",
    "\n",
    "    but not the following:\n",
    "\n",
    "    'haruto Watanabe' (where the first name is not capitalized)\n",
    "\n",
    "    'Mr. Watanabe' (where the preceding word has a nonletter character)\n",
    "\n",
    "    'Watanabe' (which has no first name)\n",
    "\n",
    "    'Haruto watanabe' (where Watanabe is not capitalized)"
   ]
  },
  {
   "cell_type": "code",
   "execution_count": 21,
   "id": "2902a019",
   "metadata": {},
   "outputs": [
    {
     "data": {
      "text/plain": [
       "'Haruto Watanabe'"
      ]
     },
     "execution_count": 21,
     "metadata": {},
     "output_type": "execute_result"
    }
   ],
   "source": [
    "name = re.compile(r'[A-Z][a-z]*\\sWatanabe')\n",
    "reg1 = re.compile(r'^\\d{1,3}(,\\d{haruto Watanabe3})*$')\n",
    "mo1 = name.search('Haruto Watanabe')\n",
    "mo1.group()"
   ]
  },
  {
   "cell_type": "code",
   "execution_count": 22,
   "id": "883e6c3a",
   "metadata": {},
   "outputs": [
    {
     "data": {
      "text/plain": [
       "'Alice Watanabe'"
      ]
     },
     "execution_count": 22,
     "metadata": {},
     "output_type": "execute_result"
    }
   ],
   "source": [
    "name = re.compile(r'[A-Z][a-z]*\\sWatanabe')\n",
    "reg1 = re.compile(r'^\\d{1,3}(,\\d{3})*$')\n",
    "mo1 = name.search('Alice Watanabe')\n",
    "mo1.group()"
   ]
  },
  {
   "cell_type": "code",
   "execution_count": 23,
   "id": "8775d5a3",
   "metadata": {},
   "outputs": [
    {
     "ename": "AttributeError",
     "evalue": "'NoneType' object has no attribute 'group'",
     "output_type": "error",
     "traceback": [
      "\u001b[1;31m---------------------------------------------------------------------------\u001b[0m",
      "\u001b[1;31mAttributeError\u001b[0m                            Traceback (most recent call last)",
      "\u001b[1;32m<ipython-input-23-36eb94d34b5e>\u001b[0m in \u001b[0;36m<module>\u001b[1;34m\u001b[0m\n\u001b[0;32m      2\u001b[0m \u001b[0mreg1\u001b[0m \u001b[1;33m=\u001b[0m \u001b[0mre\u001b[0m\u001b[1;33m.\u001b[0m\u001b[0mcompile\u001b[0m\u001b[1;33m(\u001b[0m\u001b[1;34mr'^\\d{1,3}(,\\d{3})*$'\u001b[0m\u001b[1;33m)\u001b[0m\u001b[1;33m\u001b[0m\u001b[1;33m\u001b[0m\u001b[0m\n\u001b[0;32m      3\u001b[0m \u001b[0mmo1\u001b[0m \u001b[1;33m=\u001b[0m \u001b[0mname\u001b[0m\u001b[1;33m.\u001b[0m\u001b[0msearch\u001b[0m\u001b[1;33m(\u001b[0m\u001b[1;34m'haruto Watanabe'\u001b[0m\u001b[1;33m)\u001b[0m\u001b[1;33m\u001b[0m\u001b[1;33m\u001b[0m\u001b[0m\n\u001b[1;32m----> 4\u001b[1;33m \u001b[0mmo1\u001b[0m\u001b[1;33m.\u001b[0m\u001b[0mgroup\u001b[0m\u001b[1;33m(\u001b[0m\u001b[1;33m)\u001b[0m\u001b[1;33m\u001b[0m\u001b[1;33m\u001b[0m\u001b[0m\n\u001b[0m",
      "\u001b[1;31mAttributeError\u001b[0m: 'NoneType' object has no attribute 'group'"
     ]
    }
   ],
   "source": [
    "name = re.compile(r'[A-Z][a-z]*\\sWatanabe')\n",
    "reg1 = re.compile(r'^\\d{1,3}(,\\d{3})*$')\n",
    "mo1 = name.search('haruto Watanabe')\n",
    "mo1.group()"
   ]
  },
  {
   "cell_type": "markdown",
   "id": "9164aa73",
   "metadata": {},
   "source": [
    "### 22. How would you write a regex that matches a sentence where the first word is either Alice, Bob,or Carol; the second word is either eats, pets, or throws; the third word is apples, cats, or baseballs; and the sentence ends with a period? This regex should be case-insensitive. It must match the following:\n",
    "\n",
    "    'Alice eats apples.'\n",
    "    'Bob pets cats.'\n",
    "    'Carol throws baseballs.'\n",
    "    'Alice throws Apples.'\n",
    "    'BOB EATS CATS.'\n",
    "\n",
    "    but not the following:\n",
    "\n",
    "    'RoboCop eats apples.'\n",
    "    'ALICE THROWS FOOTBALLS.'\n",
    "    'Carol eats 7 cats.'"
   ]
  },
  {
   "cell_type": "code",
   "execution_count": 24,
   "id": "c452dbd7",
   "metadata": {},
   "outputs": [
    {
     "data": {
      "text/plain": [
       "'Alice eats apples.'"
      ]
     },
     "execution_count": 24,
     "metadata": {},
     "output_type": "execute_result"
    }
   ],
   "source": [
    "name = re.compile(r'(Alice|Bob|Carol)\\s(eats|pets|throws)\\s(apples|cats|baseballs)\\.', re.IGNORECASE)\n",
    "\n",
    "mo1 = name.search('Alice eats apples.')\n",
    "mo1.group()"
   ]
  },
  {
   "cell_type": "code",
   "execution_count": 25,
   "id": "64579548",
   "metadata": {},
   "outputs": [
    {
     "data": {
      "text/plain": [
       "'Carol throws baseballs.'"
      ]
     },
     "execution_count": 25,
     "metadata": {},
     "output_type": "execute_result"
    }
   ],
   "source": [
    "name = re.compile(r'(Alice|Bob|Carol)\\s(eats|pets|throws)\\s(apples|cats|baseballs)\\.', re.IGNORECASE)\n",
    "\n",
    "mo1 = name.search('Carol throws baseballs.')\n",
    "mo1.group()"
   ]
  },
  {
   "cell_type": "code",
   "execution_count": null,
   "id": "9988ec36",
   "metadata": {},
   "outputs": [],
   "source": []
  }
 ],
 "metadata": {
  "kernelspec": {
   "display_name": "Python 3",
   "language": "python",
   "name": "python3"
  },
  "language_info": {
   "codemirror_mode": {
    "name": "ipython",
    "version": 3
   },
   "file_extension": ".py",
   "mimetype": "text/x-python",
   "name": "python",
   "nbconvert_exporter": "python",
   "pygments_lexer": "ipython3",
   "version": "3.8.8"
  }
 },
 "nbformat": 4,
 "nbformat_minor": 5
}
