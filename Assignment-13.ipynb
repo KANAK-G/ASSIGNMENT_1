{
 "cells": [
  {
   "cell_type": "markdown",
   "id": "94368fec",
   "metadata": {},
   "source": [
    "## Basic Python Assignment - 13"
   ]
  },
  {
   "cell_type": "markdown",
   "id": "9619cdf1",
   "metadata": {},
   "source": [
    "### 1. What advantages do Excel spreadsheets have over CSV spreadsheets?\n",
    "\n",
    "**Ans.** There are many advantages csv over excel :\n",
    "\n",
    "    1.CSV files are faster and also consumes less memory.\n",
    "    2.CSV files can be opened with any text editor in windows.\n",
    "    3.It is a binary file that holds information about all the worksheets in a workbook\n",
    "    4. large files user is much easier in Excel for the end user. Also,you can have additional functions like selecting    individual cells for import,convert dates and time automatically, reading formulas and their results,\n",
    "    filters, sorting, etc\n",
    "    5. Apart from text, data can also be stored in form of charts and graphs\n",
    "    6. Excel can connect to external data sources to fetch data. You can use custom add-in in Excel to increase its functionality. \n",
    "    7. Excel allows for Review of Data with detailed tracking and commenting feature\n",
    "    8. In Excel, spreadsheets can have values of data types other than strings; cells can have different fonts, sizes, \n",
    "       or color settings; cells can have varying widths and heights; adjacent cells can be merged"
   ]
  },
  {
   "cell_type": "markdown",
   "id": "6748c073",
   "metadata": {},
   "source": [
    "### 2.What do you pass to csv.reader() and csv.writer() to create reader and writer objects?\n",
    "\n",
    "**Ans.** pass the file name object"
   ]
  },
  {
   "cell_type": "code",
   "execution_count": 14,
   "id": "5d910fae",
   "metadata": {},
   "outputs": [
    {
     "name": "stdout",
     "output_type": "stream",
     "text": [
      "[['4/5/2014', 'Apples', '73'], ['4/5/2014', 'Cherries', '85'], ['4/6/2014', 'Pears', '14'], ['4/8/2014', 'Oranges', '52'], ['4/10/2014', 'Apple', '152']]\n"
     ]
    }
   ],
   "source": [
    "import csv\n",
    "exampleFile = open('example.csv','r')\n",
    "exampleReader = csv.reader(exampleFile)\n",
    "print(list(exampleReader))\n",
    "exampleFile.close()"
   ]
  },
  {
   "cell_type": "markdown",
   "id": "bb046026",
   "metadata": {},
   "source": [
    "### 3. What modes do File objects for reader and writer objects need to be opened in?\n",
    "\n",
    "**Ans.** File objects need to be opened in read-binary ('rb') for Reader objects and write-binary ('wb') for Writer objects"
   ]
  },
  {
   "cell_type": "markdown",
   "id": "2f9fe656",
   "metadata": {},
   "source": [
    "### 4. What method takes a list argument and writes it to a CSV file?"
   ]
  },
  {
   "cell_type": "code",
   "execution_count": 11,
   "id": "74fc7441",
   "metadata": {},
   "outputs": [
    {
     "data": {
      "text/plain": [
       "13"
      ]
     },
     "execution_count": 11,
     "metadata": {},
     "output_type": "execute_result"
    }
   ],
   "source": [
    "opFile = open('example.csv','w')\n",
    "opWriter = csv.writer(opFile)\n",
    "csv.writer(opFile).writerow(['hello','hello'])\n"
   ]
  },
  {
   "cell_type": "code",
   "execution_count": 12,
   "id": "9a98ad8e",
   "metadata": {},
   "outputs": [],
   "source": [
    "opFile.close()"
   ]
  },
  {
   "cell_type": "markdown",
   "id": "a59110e8",
   "metadata": {},
   "source": [
    "### 5. What do the keyword arguments delimiter and line terminator do?\n",
    "\n",
    "**Ans.** The delimiter argument changes the string used to separate cells in a row. The lineterminator argument changes the string used to separate rows."
   ]
  },
  {
   "cell_type": "code",
   "execution_count": 13,
   "id": "b7d3cc04",
   "metadata": {},
   "outputs": [],
   "source": [
    "import csv\n",
    "csvFile = open('example.tsv', 'w', newline='')\n",
    "csvWriter = csv.writer(csvFile, delimiter='\\t', lineterminator='\\n\\n')"
   ]
  },
  {
   "cell_type": "markdown",
   "id": "ce900728",
   "metadata": {},
   "source": [
    "### 6. What function takes a string of JSON data and returns a Python data structure?\n",
    "\n",
    "**Ans.** json.loads()"
   ]
  },
  {
   "cell_type": "markdown",
   "id": "40d54255",
   "metadata": {},
   "source": [
    "### 7. What function takes a Python data structure and returns a string of JSON data?\n",
    "\n",
    "**Ans.** json.dumps()"
   ]
  },
  {
   "cell_type": "code",
   "execution_count": null,
   "id": "fdb08f65",
   "metadata": {},
   "outputs": [],
   "source": []
  }
 ],
 "metadata": {
  "kernelspec": {
   "display_name": "Python 3",
   "language": "python",
   "name": "python3"
  },
  "language_info": {
   "codemirror_mode": {
    "name": "ipython",
    "version": 3
   },
   "file_extension": ".py",
   "mimetype": "text/x-python",
   "name": "python",
   "nbconvert_exporter": "python",
   "pygments_lexer": "ipython3",
   "version": "3.8.8"
  }
 },
 "nbformat": 4,
 "nbformat_minor": 5
}
