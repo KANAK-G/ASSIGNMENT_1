{
 "cells": [
  {
   "cell_type": "markdown",
   "id": "c6a9ae04",
   "metadata": {},
   "source": [
    "## Python Basic Assignment - 6"
   ]
  },
  {
   "cell_type": "markdown",
   "id": "a0195198",
   "metadata": {},
   "source": [
    "### 1. What are escape characters, and how do you use them?\n",
    "\n",
    "    An escape character lets you use characters that are otherwise impossible to put into a string. An escape character consists of a backslash (\\) followed by the character you want to add to the string. There are several different different escape characters.\n"
   ]
  },
  {
   "cell_type": "code",
   "execution_count": 1,
   "id": "6e6b3c31",
   "metadata": {},
   "outputs": [
    {
     "name": "stdout",
     "output_type": "stream",
     "text": [
      "This is Michael's house\n",
      "He told me, \"Go home\", which I did\n",
      "\tThis is good\n",
      " Number 1 \n",
      " Number 2 \n",
      " Number 3\n"
     ]
    }
   ],
   "source": [
    "print('This is Michael\\'s house')\n",
    "\n",
    "#Double quote escape character\n",
    "print(\"He told me, \\\"Go home\\\", which I did\")\n",
    "\n",
    "#Tab escape character\n",
    "print('\\tThis is good')\n",
    "\n",
    "#newline (line break) escape character\n",
    "print(' Number 1 \\n Number 2 \\n Number 3')\n"
   ]
  },
  {
   "cell_type": "markdown",
   "id": "4580c559",
   "metadata": {},
   "source": [
    "### 2. What do the escape characters n and t stand for?\n",
    "\n",
    "**Ans.** n = newline (line break), t = tab"
   ]
  },
  {
   "cell_type": "code",
   "execution_count": 2,
   "id": "9a7ec983",
   "metadata": {},
   "outputs": [
    {
     "name": "stdout",
     "output_type": "stream",
     "text": [
      "\tThis is good\n",
      " Number 1 \n",
      " Number 2 \n",
      " Number 3\n"
     ]
    }
   ],
   "source": [
    "#Tab escape character\n",
    "print('\\tThis is good')\n",
    "\n",
    "#newline (line break) escape character\n",
    "print(' Number 1 \\n Number 2 \\n Number 3')\n"
   ]
  },
  {
   "cell_type": "markdown",
   "id": "65accfcf",
   "metadata": {},
   "source": [
    "### 3. What is the way to include backslash characters in a string?\n",
    "\n",
    "    The backslash \\ character is used to escape characters that otherwise have a special meaning, such as newline, backslash itself, or the quote character."
   ]
  },
  {
   "cell_type": "code",
   "execution_count": 11,
   "id": "85d9a986",
   "metadata": {},
   "outputs": [
    {
     "name": "stdout",
     "output_type": "stream",
     "text": [
      "hello,\\ world\n"
     ]
    }
   ],
   "source": [
    "print(\"hello,\\\\ world\")"
   ]
  },
  {
   "cell_type": "markdown",
   "id": "70b78ae0",
   "metadata": {},
   "source": [
    "### 4. The string \"Howl's Moving Castle\" is a correct value. Why isn't the single quote character in the word Howl's not escaped a problem?\n",
    "\n",
    "**Ans.** The single quote in Howl's is fine because you've used double quotes to mark the beginning and end of the string. \n",
    "like wise we can use double quotes in with single quotes."
   ]
  },
  {
   "cell_type": "code",
   "execution_count": 12,
   "id": "0966c3ba",
   "metadata": {},
   "outputs": [
    {
     "name": "stdout",
     "output_type": "stream",
     "text": [
      "hello world,how's going on?\n"
     ]
    }
   ],
   "source": [
    "print(\"hello world,how's going on?\")"
   ]
  },
  {
   "cell_type": "code",
   "execution_count": 13,
   "id": "7bec1b35",
   "metadata": {},
   "outputs": [
    {
     "ename": "SyntaxError",
     "evalue": "invalid syntax (<ipython-input-13-a324de573953>, line 1)",
     "output_type": "error",
     "traceback": [
      "\u001b[1;36m  File \u001b[1;32m\"<ipython-input-13-a324de573953>\"\u001b[1;36m, line \u001b[1;32m1\u001b[0m\n\u001b[1;33m    print('how's going on')\u001b[0m\n\u001b[1;37m               ^\u001b[0m\n\u001b[1;31mSyntaxError\u001b[0m\u001b[1;31m:\u001b[0m invalid syntax\n"
     ]
    }
   ],
   "source": [
    "print('how's going on')"
   ]
  },
  {
   "cell_type": "markdown",
   "id": "d561477f",
   "metadata": {},
   "source": [
    "### 5. How do you write a string of newlines if you don't want to use the n character?\n",
    "\n",
    "**Ans.** we can use the parameter end ='\\n' in print function"
   ]
  },
  {
   "cell_type": "code",
   "execution_count": 14,
   "id": "c620ca04",
   "metadata": {},
   "outputs": [
    {
     "name": "stdout",
     "output_type": "stream",
     "text": [
      "printing something in multiple lines\n",
      "newline\n"
     ]
    }
   ],
   "source": [
    "print(\"printing something in multiple lines\",end = '\\n')\n",
    "\n",
    "print(\"newline\")"
   ]
  },
  {
   "cell_type": "markdown",
   "id": "9a2e03ef",
   "metadata": {},
   "source": [
    "### 6. What are the values of the given expressions?\n",
    "    'Hello, world!'[1] - > 'e'\n",
    "    'Hello, world!'[0:5] -> 'Hello'\n",
    "    'Hello, world!'[:5] -> 'Hello'\n",
    "    'Hello, world!'[3:] -> 'lo, world!'"
   ]
  },
  {
   "cell_type": "code",
   "execution_count": 16,
   "id": "ad25925f",
   "metadata": {},
   "outputs": [
    {
     "name": "stdout",
     "output_type": "stream",
     "text": [
      "e\n",
      "Hello\n",
      "Hello\n",
      "lo, world\n"
     ]
    }
   ],
   "source": [
    "string = \"Hello, world\"\n",
    "print(string[1])\n",
    "print(string[0:5])\n",
    "print(string[:5])\n",
    "print(string[3:])"
   ]
  },
  {
   "cell_type": "code",
   "execution_count": 17,
   "id": "210ca7e6",
   "metadata": {},
   "outputs": [
    {
     "data": {
      "text/plain": [
       "'e'"
      ]
     },
     "execution_count": 17,
     "metadata": {},
     "output_type": "execute_result"
    }
   ],
   "source": [
    "'Hello, world!'[1]"
   ]
  },
  {
   "cell_type": "code",
   "execution_count": 19,
   "id": "733dc478",
   "metadata": {},
   "outputs": [
    {
     "data": {
      "text/plain": [
       "'Hello'"
      ]
     },
     "execution_count": 19,
     "metadata": {},
     "output_type": "execute_result"
    }
   ],
   "source": [
    "'Hello, world!'[0:5]"
   ]
  },
  {
   "cell_type": "code",
   "execution_count": 20,
   "id": "98296b8a",
   "metadata": {},
   "outputs": [
    {
     "data": {
      "text/plain": [
       "'Hello'"
      ]
     },
     "execution_count": 20,
     "metadata": {},
     "output_type": "execute_result"
    }
   ],
   "source": [
    "'Hello, world!'[:5]"
   ]
  },
  {
   "cell_type": "code",
   "execution_count": 21,
   "id": "c309219b",
   "metadata": {},
   "outputs": [
    {
     "data": {
      "text/plain": [
       "'lo, world!'"
      ]
     },
     "execution_count": 21,
     "metadata": {},
     "output_type": "execute_result"
    }
   ],
   "source": [
    "'Hello, world!'[3:]"
   ]
  },
  {
   "cell_type": "markdown",
   "id": "26a86f81",
   "metadata": {},
   "source": [
    "### 7. What are the values of the following expressions?\n",
    "    'Hello'.upper() - > 'HELLO'\n",
    "    'Hello'.upper().isupper() -> True\n",
    "    'Hello'.upper().lower() -> 'hello'"
   ]
  },
  {
   "cell_type": "code",
   "execution_count": 22,
   "id": "88e55b1f",
   "metadata": {},
   "outputs": [
    {
     "data": {
      "text/plain": [
       "'HELLO'"
      ]
     },
     "execution_count": 22,
     "metadata": {},
     "output_type": "execute_result"
    }
   ],
   "source": [
    "'Hello'.upper()"
   ]
  },
  {
   "cell_type": "code",
   "execution_count": 23,
   "id": "e80e96da",
   "metadata": {},
   "outputs": [
    {
     "data": {
      "text/plain": [
       "True"
      ]
     },
     "execution_count": 23,
     "metadata": {},
     "output_type": "execute_result"
    }
   ],
   "source": [
    "'Hello'.upper().isupper()"
   ]
  },
  {
   "cell_type": "code",
   "execution_count": 24,
   "id": "04993e9d",
   "metadata": {},
   "outputs": [
    {
     "data": {
      "text/plain": [
       "'hello'"
      ]
     },
     "execution_count": 24,
     "metadata": {},
     "output_type": "execute_result"
    }
   ],
   "source": [
    "'Hello'.upper().lower()"
   ]
  },
  {
   "cell_type": "markdown",
   "id": "141ee744",
   "metadata": {},
   "source": [
    "### 8. What are the values of the following expressions?\n",
    "\n",
    "    'Remember, remember, the fifth of July.'.split() : splits with space and returns list of words\n",
    "    '-'.join('There can only one.'.split()) :  splits with space and join with '_'"
   ]
  },
  {
   "cell_type": "code",
   "execution_count": 25,
   "id": "7c888ddd",
   "metadata": {},
   "outputs": [
    {
     "data": {
      "text/plain": [
       "['Remember,', 'remember,', 'the', 'fifth', 'of', 'July.']"
      ]
     },
     "execution_count": 25,
     "metadata": {},
     "output_type": "execute_result"
    }
   ],
   "source": [
    "'Remember, remember, the fifth of July.'.split()"
   ]
  },
  {
   "cell_type": "code",
   "execution_count": 26,
   "id": "96599718",
   "metadata": {},
   "outputs": [
    {
     "data": {
      "text/plain": [
       "'There-can-only-one.'"
      ]
     },
     "execution_count": 26,
     "metadata": {},
     "output_type": "execute_result"
    }
   ],
   "source": [
    "'-'.join('There can only one.'.split())"
   ]
  },
  {
   "cell_type": "markdown",
   "id": "efebb8dd",
   "metadata": {},
   "source": [
    "### 9. What are the methods for right-justifying, left-justifying, and centering a string?\n",
    "\n",
    "**Ans.**The following methods are used for justifying strings\n",
    "    **ljust(),\n",
    "    rjust(),\n",
    "    center(),**"
   ]
  },
  {
   "cell_type": "code",
   "execution_count": 27,
   "id": "837bd445",
   "metadata": {},
   "outputs": [
    {
     "data": {
      "text/plain": [
       "'Hello-----'"
      ]
     },
     "execution_count": 27,
     "metadata": {},
     "output_type": "execute_result"
    }
   ],
   "source": [
    "#left justified\n",
    "str =\"Hello\"\n",
    "str.ljust(10,\"-\")"
   ]
  },
  {
   "cell_type": "code",
   "execution_count": 28,
   "id": "0ecac820",
   "metadata": {},
   "outputs": [
    {
     "data": {
      "text/plain": [
       "'-----Hello'"
      ]
     },
     "execution_count": 28,
     "metadata": {},
     "output_type": "execute_result"
    }
   ],
   "source": [
    "#right justified\n",
    "str =\"Hello\"\n",
    "str.rjust(10,\"-\")"
   ]
  },
  {
   "cell_type": "code",
   "execution_count": 29,
   "id": "6d62eaac",
   "metadata": {},
   "outputs": [
    {
     "data": {
      "text/plain": [
       "'**Hello***'"
      ]
     },
     "execution_count": 29,
     "metadata": {},
     "output_type": "execute_result"
    }
   ],
   "source": [
    "#left justified\n",
    "str =\"Hello\"\n",
    "str.center(10,\"*\")"
   ]
  },
  {
   "cell_type": "markdown",
   "id": "71e0d66e",
   "metadata": {},
   "source": [
    "### 10. What is the best way to remove whitespace characters from the start or end?\n",
    "\n",
    "**Ans. lstrip()** -> removes white spaces from left of the string\n",
    "\n",
    "**rstrip()** -> removes whitespaces from right of the string"
   ]
  },
  {
   "cell_type": "code",
   "execution_count": 30,
   "id": "d1803bf4",
   "metadata": {},
   "outputs": [
    {
     "data": {
      "text/plain": [
       "'hello world'"
      ]
     },
     "execution_count": 30,
     "metadata": {},
     "output_type": "execute_result"
    }
   ],
   "source": [
    "s = \"  hello world\"\n",
    "s.lstrip()"
   ]
  },
  {
   "cell_type": "code",
   "execution_count": 31,
   "id": "1f6ac24e",
   "metadata": {},
   "outputs": [
    {
     "data": {
      "text/plain": [
       "'hello world'"
      ]
     },
     "execution_count": 31,
     "metadata": {},
     "output_type": "execute_result"
    }
   ],
   "source": [
    "s = \"hello world       \"\n",
    "s.rstrip()"
   ]
  },
  {
   "cell_type": "code",
   "execution_count": null,
   "id": "9aafa7b9",
   "metadata": {},
   "outputs": [],
   "source": []
  }
 ],
 "metadata": {
  "kernelspec": {
   "display_name": "Python 3",
   "language": "python",
   "name": "python3"
  },
  "language_info": {
   "codemirror_mode": {
    "name": "ipython",
    "version": 3
   },
   "file_extension": ".py",
   "mimetype": "text/x-python",
   "name": "python",
   "nbconvert_exporter": "python",
   "pygments_lexer": "ipython3",
   "version": "3.8.8"
  }
 },
 "nbformat": 4,
 "nbformat_minor": 5
}
