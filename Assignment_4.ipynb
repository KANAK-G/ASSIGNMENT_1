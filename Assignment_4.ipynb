{
 "cells": [
  {
   "cell_type": "markdown",
   "metadata": {},
   "source": [
    "## Q1. What exactly is []?\n",
    "Ans. It is notation of list or we can say it is an empty list \n"
   ]
  },
  {
   "cell_type": "code",
   "execution_count": 1,
   "metadata": {},
   "outputs": [
    {
     "name": "stdout",
     "output_type": "stream",
     "text": [
      "[] <class 'list'>\n"
     ]
    }
   ],
   "source": [
    "a = []\n",
    "print(a,type(a))"
   ]
  },
  {
   "cell_type": "markdown",
   "metadata": {},
   "source": [
    "## Q2. In a list of values stored in a variable called spam, how would you assign the value 'hello' as the third value? (Assume [2, 4, 6, 8, 10] are in spam.) Let's pretend the spam includes the list ['a', 'b', 'c', 'd'] for the next three queries."
   ]
  },
  {
   "cell_type": "code",
   "execution_count": 5,
   "metadata": {},
   "outputs": [
    {
     "name": "stdout",
     "output_type": "stream",
     "text": [
      "[2, 4, 'hello', 6, 8, 10]\n",
      "[2, 4, 'hello', 6, 8, 10, ['a', 'b', 'c', 'd']]\n"
     ]
    }
   ],
   "source": [
    "#Ans.2\n",
    "spam = [2, 4, 6, 8, 10]\n",
    "spam.insert(2,'hello')\n",
    "print(spam)\n",
    "\n",
    "spam.append( ['a', 'b', 'c', 'd'] )\n",
    "print(spam)"
   ]
  },
  {
   "cell_type": "markdown",
   "metadata": {},
   "source": [
    "## Q3. What is the value of spam[int(int('3' * 2) / 11)]?"
   ]
  },
  {
   "cell_type": "code",
   "execution_count": 6,
   "metadata": {},
   "outputs": [
    {
     "data": {
      "text/plain": [
       "6"
      ]
     },
     "execution_count": 6,
     "metadata": {},
     "output_type": "execute_result"
    }
   ],
   "source": [
    "#Ans.3\n",
    "spam[int(int('3' * 2) / 11)]"
   ]
  },
  {
   "cell_type": "markdown",
   "metadata": {},
   "source": [
    "## Q4. What is the value of spam[-1]?"
   ]
  },
  {
   "cell_type": "code",
   "execution_count": 8,
   "metadata": {},
   "outputs": [
    {
     "name": "stdout",
     "output_type": "stream",
     "text": [
      "[2, 4, 'hello', 6, 8, 10, ['a', 'b', 'c', 'd']]\n",
      "['a', 'b', 'c', 'd']\n"
     ]
    }
   ],
   "source": [
    "#Ans.4\n",
    "print(spam)\n",
    "print(spam[-1])"
   ]
  },
  {
   "cell_type": "markdown",
   "metadata": {},
   "source": [
    "## Q5. What is the value of spam[:2]?"
   ]
  },
  {
   "cell_type": "code",
   "execution_count": 9,
   "metadata": {},
   "outputs": [
    {
     "name": "stdout",
     "output_type": "stream",
     "text": [
      "[2, 4, 'hello', 6, 8, 10, ['a', 'b', 'c', 'd']]\n",
      "[2, 4]\n"
     ]
    }
   ],
   "source": [
    "#Ans.5\n",
    "print(spam)\n",
    "print(spam[:2])"
   ]
  },
  {
   "cell_type": "markdown",
   "metadata": {},
   "source": [
    "## Q6. What is the value of bacon.index('cat')? Let's pretend bacon has the list [3.14, 'cat,' 11, 'cat,' True] for the next three questions."
   ]
  },
  {
   "cell_type": "code",
   "execution_count": 14,
   "metadata": {},
   "outputs": [
    {
     "name": "stdout",
     "output_type": "stream",
     "text": [
      "1\n"
     ]
    }
   ],
   "source": [
    "#Ans6.\n",
    "bacon = [3.14, 'cat', 11, 'cat',True] \n",
    "print(bacon.index('cat'))\n",
    "\n",
    "# index gives us the index number of very first appear data in case of replication"
   ]
  },
  {
   "cell_type": "markdown",
   "metadata": {},
   "source": [
    "## Q7. How does bacon.append(99) change the look of the list value in bacon?"
   ]
  },
  {
   "cell_type": "code",
   "execution_count": 18,
   "metadata": {},
   "outputs": [
    {
     "name": "stdout",
     "output_type": "stream",
     "text": [
      "[3.14, 'cat', 11, 'cat', True, 99]\n"
     ]
    }
   ],
   "source": [
    "#Ans.7\n",
    "bacon = [3.14, 'cat', 11, 'cat',True] \n",
    "bacon.append(99)\n",
    "print(bacon)\n",
    "\n",
    "'''in original list we have 5 elementbut after appending 99 in the list now length of list \n",
    "increased by 1.'''"
   ]
  },
  {
   "cell_type": "markdown",
   "metadata": {},
   "source": [
    "## Q8.How does bacon.remove('cat') change the look of the list in bacon?"
   ]
  },
  {
   "cell_type": "code",
   "execution_count": 19,
   "metadata": {},
   "outputs": [
    {
     "name": "stdout",
     "output_type": "stream",
     "text": [
      "[3.14, 11, 'cat', True]\n"
     ]
    }
   ],
   "source": [
    "#Ans.8\n",
    "bacon = [3.14, 'cat', 11, 'cat',True] \n",
    "bacon.remove('cat')\n",
    "print(bacon)\n",
    "\n",
    "'''bacon.remove('cat') will remove only cat at first falls if we want remove both cat from the list\n",
    "then we can use for loop'''"
   ]
  },
  {
   "cell_type": "code",
   "execution_count": 22,
   "metadata": {},
   "outputs": [
    {
     "name": "stdout",
     "output_type": "stream",
     "text": [
      "[3.14, 11, True]\n"
     ]
    }
   ],
   "source": [
    "for i in bacon:\n",
    "    if i == 'cat':\n",
    "        bacon.remove(i)\n",
    "    print(bacon)\n",
    "    break"
   ]
  },
  {
   "cell_type": "markdown",
   "metadata": {},
   "source": [
    "## Q9.What are the list concatenation and list replication operators?"
   ]
  },
  {
   "cell_type": "code",
   "execution_count": 26,
   "metadata": {},
   "outputs": [
    {
     "name": "stdout",
     "output_type": "stream",
     "text": [
      "Concatenation = [1, 2, 'kk', 1, 2, 'kk']\n",
      "Replication =  [1, 2, 'kk', 1, 2, 'kk', 1, 2, 'kk', 1, 2, 'kk', 1, 2, 'kk']\n"
     ]
    }
   ],
   "source": [
    "'''Ans.9 list concatenation - Cancatenation means adding(+)or merging the same data types\n",
    "in case we merge many list in a single list.\n",
    "list replication - Replication mean repeatation(*) of elemnets, repeat a particular elements\n",
    "of list many times'''\n",
    "\n",
    "lst = [1,2,'kk']\n",
    "lst += lst\n",
    "print('Concatenation =',lst)\n",
    "\n",
    "lst = [1,2,'kk']\n",
    "lst *= 5\n",
    "print('Replication = ', lst)"
   ]
  },
  {
   "cell_type": "markdown",
   "metadata": {},
   "source": [
    "## Q10.What is difference between the list methods append() and insert()?"
   ]
  },
  {
   "cell_type": "code",
   "execution_count": 32,
   "metadata": {},
   "outputs": [
    {
     "name": "stdout",
     "output_type": "stream",
     "text": [
      "original =  [1, 2, 3, 'a', 'b', 'c']\n",
      "new =  [1, 2, 3, 'a', 'b', 'c', [45, 65, 'd']]\n",
      "Insert list at index 2= [1, 2, [15, 'e'], 3, 'a', 'b', 'c', [45, 65, 'd']]\n"
     ]
    }
   ],
   "source": [
    "'''Append - Through this method we can increase the size of list by adding single element \n",
    "or by adding a list at the last index\n",
    "\n",
    "Insert - Through insert method we can add the data at any index number.\n",
    "'''\n",
    "\n",
    "lst = [1,2,3,'a','b','c']\n",
    "print('original = ', lst)\n",
    "b = lst.append([45,65,'d'])\n",
    "print('new = ',lst)\n",
    "\n",
    "# insert\n",
    "lst.insert(2,[15,'e'])\n",
    "print('Insert list at index 2=',lst)"
   ]
  },
  {
   "cell_type": "markdown",
   "metadata": {},
   "source": [
    "## Q11. What are the two methods for removing items from a list?\n",
    "Ans. Pop and remove"
   ]
  },
  {
   "cell_type": "code",
   "execution_count": 34,
   "metadata": {},
   "outputs": [
    {
     "name": "stdout",
     "output_type": "stream",
     "text": [
      "After removing =  [1, 2, 3, 4, 'a']\n",
      "After pop =  [2, 3, 4, 'a']\n"
     ]
    }
   ],
   "source": [
    "#Remove first occurrence of value.\n",
    "\n",
    "lst = [1,2,3,4,'a','a']\n",
    "lst.remove('a')\n",
    "print('After removing = ', lst)\n",
    "\n",
    "#pop remove and return item at index (default last).\n",
    "\n",
    "lst.pop(0)\n",
    "print('After pop = ', lst)"
   ]
  },
  {
   "cell_type": "markdown",
   "metadata": {},
   "source": [
    "## Q12. Describe how list values and string values are identical.\n",
    " "
   ]
  },
  {
   "cell_type": "code",
   "execution_count": 16,
   "metadata": {},
   "outputs": [
    {
     "name": "stdout",
     "output_type": "stream",
     "text": [
      "['p', 'y', 't', 'h', 'o', 'n']\n",
      "python\n"
     ]
    }
   ],
   "source": [
    "lst = ['p', 'y', 't', 'h', 'o', 'n']\n",
    "print(lst)\n",
    "stng = 'python'\n",
    "print(stng)\n"
   ]
  },
  {
   "cell_type": "code",
   "execution_count": 17,
   "metadata": {},
   "outputs": [
    {
     "data": {
      "text/plain": [
       "True"
      ]
     },
     "execution_count": 17,
     "metadata": {},
     "output_type": "execute_result"
    }
   ],
   "source": [
    "lst[0]==stng[0]"
   ]
  },
  {
   "cell_type": "code",
   "execution_count": 37,
   "metadata": {},
   "outputs": [
    {
     "name": "stdout",
     "output_type": "stream",
     "text": [
      "p\n",
      "y\n",
      "t\n",
      "h\n",
      "o\n",
      "n\n"
     ]
    }
   ],
   "source": [
    "for i in lst:\n",
    "    print(i)"
   ]
  },
  {
   "cell_type": "code",
   "execution_count": 38,
   "metadata": {},
   "outputs": [
    {
     "name": "stdout",
     "output_type": "stream",
     "text": [
      "p\n",
      "y\n",
      "t\n",
      "h\n",
      "o\n",
      "n\n"
     ]
    }
   ],
   "source": [
    "for i in stng:\n",
    "    print(i)"
   ]
  },
  {
   "cell_type": "markdown",
   "metadata": {},
   "source": [
    "## Q13. What's the difference between tuples and lists?\n",
    "\n",
    "Ans. tuples and lists both are the sequential non-primitive data types. The main difference between is\n",
    "tuples are immutable and list are mutable data types. Let's understand by example"
   ]
  },
  {
   "cell_type": "code",
   "execution_count": 8,
   "metadata": {},
   "outputs": [
    {
     "name": "stdout",
     "output_type": "stream",
     "text": [
      "Tuple =  (12.5, True, (4+2j), 15, 'python')\n",
      "List =  [12.5, True, (4+2j), 15, 'python']\n",
      "New list =  [12.5, 'hello', (4+2j), 15, 'python']\n"
     ]
    },
    {
     "ename": "TypeError",
     "evalue": "'tuple' object does not support item assignment",
     "output_type": "error",
     "traceback": [
      "\u001b[1;31m---------------------------------------------------------------------------\u001b[0m",
      "\u001b[1;31mTypeError\u001b[0m                                 Traceback (most recent call last)",
      "\u001b[1;32m<ipython-input-8-786f13c7a25f>\u001b[0m in \u001b[0;36m<module>\u001b[1;34m\u001b[0m\n\u001b[0;32m      8\u001b[0m \u001b[0mprint\u001b[0m\u001b[1;33m(\u001b[0m\u001b[1;34m'New list = '\u001b[0m\u001b[1;33m,\u001b[0m \u001b[0mlst\u001b[0m\u001b[1;33m)\u001b[0m\u001b[1;33m\u001b[0m\u001b[1;33m\u001b[0m\u001b[0m\n\u001b[0;32m      9\u001b[0m \u001b[1;33m\u001b[0m\u001b[0m\n\u001b[1;32m---> 10\u001b[1;33m \u001b[0mtup\u001b[0m\u001b[1;33m[\u001b[0m\u001b[1;36m1\u001b[0m\u001b[1;33m]\u001b[0m \u001b[1;33m=\u001b[0m \u001b[1;34m'hello'\u001b[0m\u001b[1;33m\u001b[0m\u001b[1;33m\u001b[0m\u001b[0m\n\u001b[0m\u001b[0;32m     11\u001b[0m \u001b[0mprint\u001b[0m\u001b[1;33m(\u001b[0m\u001b[0mtup\u001b[0m\u001b[1;33m)\u001b[0m\u001b[1;33m\u001b[0m\u001b[1;33m\u001b[0m\u001b[0m\n",
      "\u001b[1;31mTypeError\u001b[0m: 'tuple' object does not support item assignment"
     ]
    }
   ],
   "source": [
    "tup = (12.5,True,4+2j,15,'python')\n",
    "print('Tuple = ', tup)\n",
    "\n",
    "lst = [12.5,True,4+2j,15,'python']\n",
    "print('List = ', lst)\n",
    "\n",
    "lst[1] ='hello'        # by using index number we are able to change the value this concept is known as mutable\n",
    "print('New list = ', lst)\n",
    "\n",
    "tup[1] = 'hello'\n",
    "print(tup) # here we can see, we are unable to change the value of index number 1."
   ]
  },
  {
   "cell_type": "markdown",
   "metadata": {},
   "source": [
    "## Q14. How do you type a tuple value that only contains the integer 42?\n"
   ]
  },
  {
   "cell_type": "code",
   "execution_count": 12,
   "metadata": {},
   "outputs": [
    {
     "name": "stdout",
     "output_type": "stream",
     "text": [
      "42\n"
     ]
    }
   ],
   "source": [
    "#Ans.14\n",
    "tup = (42)\n",
    "print(tup)"
   ]
  },
  {
   "cell_type": "markdown",
   "metadata": {},
   "source": [
    "## Q15. How do you get a list value's tuple form? How do you get a tuple value's list form?\n",
    "Ans. By using typecasting we can easily get list value in tuple form or vice-versa"
   ]
  },
  {
   "cell_type": "code",
   "execution_count": 14,
   "metadata": {},
   "outputs": [
    {
     "name": "stdout",
     "output_type": "stream",
     "text": [
      "List value in tuple form = (12, 45, 65, 78, 32)\n",
      "Tuple values in list form =  [12, 45, 65, 78, 32]\n"
     ]
    }
   ],
   "source": [
    "lst = [12,45,65,78,32]\n",
    "tup = tuple(lst)\n",
    "print('List value in tuple form =', tup)\n",
    "\n",
    "tup = (12, 45, 65, 78, 32)\n",
    "lst = list(tup)\n",
    "print('Tuple values in list form = ', lst)"
   ]
  },
  {
   "cell_type": "markdown",
   "metadata": {},
   "source": [
    "## Q16. Variables that \"contain\" list values are not necessarily lists themselves. Instead, what do they contain?\n"
   ]
  },
  {
   "cell_type": "markdown",
   "metadata": {},
   "source": [
    "### Ans. Instead list,it can contains dictionary,tuples and others data types"
   ]
  },
  {
   "cell_type": "code",
   "execution_count": 11,
   "metadata": {},
   "outputs": [
    {
     "name": "stdout",
     "output_type": "stream",
     "text": [
      "Type of lis =  <class 'list'>\n",
      "Type of value in index no:0 =  <class 'dict'>\n",
      "Type of value in index no:1 =  <class 'tuple'>\n"
     ]
    }
   ],
   "source": [
    "# Ans.16\n",
    "lis = [{45:12,'key':'value'},('a',12),[45,56]]\n",
    "print('Type of lis = ',type(lis))\n",
    "\n",
    "print('Type of value in index no:0 = ',type(lis[0])) \n",
    "print('Type of value in index no:1 = ',type(lis[1]))      "
   ]
  },
  {
   "cell_type": "markdown",
   "metadata": {},
   "source": [
    "## Q17. How do you distinguish between copy.copy() and copy.deepcopy()?"
   ]
  },
  {
   "cell_type": "markdown",
   "metadata": {},
   "source": [
    "### Ans. As we can understand by below illustration copy.copy() gives exact original list after amended the old one the same changes occurs in new one automatically but in case of copy.deepcopy() the copy of original one works independently."
   ]
  },
  {
   "cell_type": "code",
   "execution_count": 3,
   "metadata": {},
   "outputs": [
    {
     "name": "stdout",
     "output_type": "stream",
     "text": [
      "Old list: [[10, 11, 12], [20, 'ineuron', 22], [30, 65.4, 32]]\n",
      "New list: [[10, 11, 12], [20, 'ineuron', 22], [30, 65.4, 32]]\n"
     ]
    }
   ],
   "source": [
    "import copy\n",
    "\n",
    "old_list = [[10, 11, 12], [20, 21, 22], [30, 31, 32]]\n",
    "new_list = copy.copy(old_list)\n",
    "\n",
    "old_list[1][1] = 'ineuron'\n",
    "new_list[2][1] = 65.4\n",
    "\n",
    "print(\"Old list:\", old_list)\n",
    "print(\"New list:\", new_list)"
   ]
  },
  {
   "cell_type": "code",
   "execution_count": 4,
   "metadata": {},
   "outputs": [
    {
     "name": "stdout",
     "output_type": "stream",
     "text": [
      "Old list: [[10, 11, 12], [20, 'ineuron', 22], [30, 31, 32]]\n",
      "New list: [[10, 11, 12], [20, 21, 22], [30, 65.4, 32]]\n"
     ]
    }
   ],
   "source": [
    "old_list = [[10, 11, 12], [20, 21, 22], [30, 31, 32]]\n",
    "new_list = copy.deepcopy(old_list)\n",
    "\n",
    "old_list[1][1] = 'ineuron'\n",
    "new_list[2][1] = 65.4\n",
    "\n",
    "print(\"Old list:\", old_list)\n",
    "print(\"New list:\", new_list)"
   ]
  },
  {
   "cell_type": "code",
   "execution_count": null,
   "metadata": {},
   "outputs": [],
   "source": []
  }
 ],
 "metadata": {
  "kernelspec": {
   "display_name": "Python 3",
   "language": "python",
   "name": "python3"
  },
  "language_info": {
   "codemirror_mode": {
    "name": "ipython",
    "version": 3
   },
   "file_extension": ".py",
   "mimetype": "text/x-python",
   "name": "python",
   "nbconvert_exporter": "python",
   "pygments_lexer": "ipython3",
   "version": "3.9.1"
  }
 },
 "nbformat": 4,
 "nbformat_minor": 4
}
