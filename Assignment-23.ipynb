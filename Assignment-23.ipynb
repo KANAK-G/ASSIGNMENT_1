{
 "cells": [
  {
   "cell_type": "markdown",
   "id": "08824ab7",
   "metadata": {},
   "source": [
    "### 1. What is the result of the code, and why?\n",
    "    def func(a, b=6, c=8):\n",
    "        print(a, b, c)\n",
    "        \n",
    "**Answer:**\n",
    "\n",
    "       This funtion is taking a positional argument and 2 keyward argument,parameter passed \n",
    "       are a=1,b=2. When the function is executed , parameter c=8 will be taken by default as its a keyword argument.\n",
    "       solurion is = 1,2,8"
   ]
  },
  {
   "cell_type": "code",
   "execution_count": 1,
   "id": "242207d3",
   "metadata": {},
   "outputs": [],
   "source": [
    "def func(a, b=6, c=8):\n",
    "    print(a, b,c)"
   ]
  },
  {
   "cell_type": "code",
   "execution_count": 2,
   "id": "2f44fd9c",
   "metadata": {},
   "outputs": [
    {
     "name": "stdout",
     "output_type": "stream",
     "text": [
      "1 2 8\n"
     ]
    }
   ],
   "source": [
    "func(1, 2)"
   ]
  },
  {
   "cell_type": "markdown",
   "id": "8d8f09ee",
   "metadata": {},
   "source": [
    "### 2. What is the result of this code, and why?\n",
    "    def func(a, b, c=5):\n",
    "\n",
    "    print(a, b, c)\n",
    " \n",
    "**Answer:**\n",
    "\n",
    "    When we make function call, order will be positional argument and then keywords arguments. we can pass the keyword arguments in any order we want.\n",
    "  "
   ]
  },
  {
   "cell_type": "code",
   "execution_count": 3,
   "id": "9360d0be",
   "metadata": {},
   "outputs": [
    {
     "name": "stdout",
     "output_type": "stream",
     "text": [
      "1 2 3\n"
     ]
    }
   ],
   "source": [
    "def func(a, b, c=5):\n",
    "    print(a, b, c)\n",
    "    \n",
    "func(1, c=3, b=2)"
   ]
  },
  {
   "cell_type": "markdown",
   "id": "db1bf1fe",
   "metadata": {},
   "source": [
    "### 3.How about this code: what is its result, and why?\n",
    "    def func(a, *pargs):\n",
    "\n",
    "    print(a, pargs)\n",
    "    \n",
    "**Answer:**\n",
    "\n",
    "    The return type of *args parameter is tuple, where as **kargs will be dictionary\n",
    "    solution is = 1,(2,3)\n"
   ]
  },
  {
   "cell_type": "code",
   "execution_count": 4,
   "id": "dd0cf00a",
   "metadata": {},
   "outputs": [
    {
     "name": "stdout",
     "output_type": "stream",
     "text": [
      "1 (2, 3)\n"
     ]
    }
   ],
   "source": [
    "def func(a, *pargs):\n",
    "    print(a, pargs)\n",
    "\n",
    "func(1, 2, 3)"
   ]
  },
  {
   "cell_type": "markdown",
   "id": "23d2f75e",
   "metadata": {},
   "source": [
    "### 4. What does this code print, and why?\n",
    "    def func(a, **kargs):\n",
    "\n",
    "    print(a, kargs)\n",
    "    \n",
    "**Answer :**\n",
    "\n",
    "    The return type of  **kargs is  dictionary\n",
    "    solution is = 1,{'c':3,'b':2}"
   ]
  },
  {
   "cell_type": "code",
   "execution_count": 5,
   "id": "9da174bd",
   "metadata": {},
   "outputs": [
    {
     "name": "stdout",
     "output_type": "stream",
     "text": [
      "1 {'c': 3, 'b': 2}\n"
     ]
    }
   ],
   "source": [
    "def func(a, **kargs):\n",
    "    print(a, kargs)\n",
    "    \n",
    "func(a=1, c=3, b=2)"
   ]
  },
  {
   "cell_type": "markdown",
   "id": "c8ca1c0e",
   "metadata": {},
   "source": [
    "### 5. What gets printed by this, and explain?\n",
    "     def func(a, b, c=8, d=5):\n",
    "\n",
    "     print(a, b, c, d)\n",
    "     \n",
    "**Answer :**\n",
    "\n",
    "    '*' is the unpacking operator and are operators that unpack the values from iterable objects in Python. The single \n",
    "    asterisk operator * can be used on any iterable that Python provides, while the double asterisk operator ** can only \n",
    "    be used on dictionaries. In the example the value *(5,6) will be unpacked and will be assigned to b and c and passed \n",
    "    as arguments, d =5 will taken by defaults are keyword arguments.\n",
    "\n",
    "    Solution 1,5,6,5"
   ]
  },
  {
   "cell_type": "code",
   "execution_count": 6,
   "id": "43d315d5",
   "metadata": {},
   "outputs": [
    {
     "name": "stdout",
     "output_type": "stream",
     "text": [
      "1 5 6 5\n"
     ]
    }
   ],
   "source": [
    "def func(a, b, c=8, d=5):\n",
    "    print(a, b, c, d)\n",
    "    \n",
    "func(1, *(5, 6))"
   ]
  },
  {
   "cell_type": "markdown",
   "id": "0c1d1d8c",
   "metadata": {},
   "source": [
    "### 6. what is the result of this, and explain?\n",
    "    def func(a,b,c):\n",
    "    a = 2; \n",
    "    b[0] = \"x\";\n",
    "    c[\"a\"] = 'y'\n",
    "    l=1\n",
    "    m=[1]\n",
    "    n={'a':0}\n",
    "    \n",
    "**Ans.**\n",
    "\n",
    "    Here in the code, the list and dict are passed as argument, and those are mutable. Here the list l and parametr b point \n",
    "    to the same list in the memeory location where as dict n and c point to the same memory location. Any updates to this \n",
    "    list will update in the memory location\n",
    "\n",
    "    l = 1 , integer values, immutable, m is list, mutable, n is dict, mutable.\n",
    "    output will be = 1,['x'],{'a':'y'}\n"
   ]
  },
  {
   "cell_type": "code",
   "execution_count": 7,
   "id": "ddde8ebe",
   "metadata": {},
   "outputs": [],
   "source": [
    "def func(a,b,c):\n",
    "    \n",
    "    a = 2; \n",
    "    b[0] = \"x\";\n",
    "    c[\"a\"] = 'y'\n",
    "    \n",
    "    \n",
    "l=1\n",
    "m=[1]\n",
    "n={'a':0}\n",
    "func(l,m,n)\n",
    " "
   ]
  },
  {
   "cell_type": "code",
   "execution_count": 8,
   "id": "f59d3fbc",
   "metadata": {},
   "outputs": [
    {
     "data": {
      "text/plain": [
       "(1, ['x'], {'a': 'y'})"
      ]
     },
     "execution_count": 8,
     "metadata": {},
     "output_type": "execute_result"
    }
   ],
   "source": [
    "l,m,n"
   ]
  },
  {
   "cell_type": "code",
   "execution_count": 9,
   "id": "623b04e0",
   "metadata": {},
   "outputs": [
    {
     "name": "stdout",
     "output_type": "stream",
     "text": [
      "10\n",
      "['meaning', 'nonsense']\n"
     ]
    }
   ],
   "source": [
    "## similar example\n",
    "def func1(x, l1):\n",
    "    x = 5\n",
    "    l1.append(\"xyz\")\n",
    "\n",
    "y = 10\n",
    "list1 = [\"q\"]\n",
    "func1(y, list1)\n",
    "print(y)\n",
    "print(list1)"
   ]
  },
  {
   "cell_type": "code",
   "execution_count": null,
   "id": "bb498f44",
   "metadata": {},
   "outputs": [],
   "source": []
  }
 ],
 "metadata": {
  "kernelspec": {
   "display_name": "Python 3",
   "language": "python",
   "name": "python3"
  },
  "language_info": {
   "codemirror_mode": {
    "name": "ipython",
    "version": 3
   },
   "file_extension": ".py",
   "mimetype": "text/x-python",
   "name": "python",
   "nbconvert_exporter": "python",
   "pygments_lexer": "ipython3",
   "version": "3.8.8"
  }
 },
 "nbformat": 4,
 "nbformat_minor": 5
}
