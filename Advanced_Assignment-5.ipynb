{
 "cells": [
  {
   "cell_type": "markdown",
   "id": "24740199",
   "metadata": {},
   "source": [
    "## Python Advanced Assignment - 5"
   ]
  },
  {
   "cell_type": "markdown",
   "id": "22667c8b",
   "metadata": {},
   "source": [
    "### Q1. What is the meaning of multiple inheritance?\n",
    "\n",
    "    Ans. When a class is derived from more than one base class it is called multiple Inheritance. The derived class inherits all the features of the base case.\n",
    "\n",
    "### Q2. What is the concept of delegation?\n",
    "\n",
    "    Ans. Delegation is an object oriented technique (also called a design pattern). \n",
    "\n",
    "    Let's say you have an object x and want to change the behaviour of just one of its methods. You can create a new class that provides a new implementation of the method you're interested in changing and delegates all other methods to the corresponding method of x.\n",
    "\n",
    "### Q3. What is the concept of composition?\n",
    "\n",
    "    Ans. In Python, the composition allows us to reuse the implementation of the component class object in the composite classes. The composition relationship in Python between composite class and component class is considered as loosely coupled. It means that if we make changes in component class, it will rarely affect the composite class and if we make changes in the composite class, it will never affect the component class. This feature of composition in Python provides us better adaptability with the changes\n",
    "\n",
    "### Q4. What are bound methods and how do we use them?\n",
    "\n",
    "    Ans. If a function is an attribute of class and it is accessed via the instances, they are called bound methods. A bound method is one that has ‘self‘ as its first argument. Since these are dependent on the instance of classes, these are also known as instance methods.\n",
    "\n",
    "    For example, if there is a class “Fruits”, and instances like apple, orange, mango are possible. Each instance may have different size, color, taste, and nutrients in it. Thus to alter any value for a specific instance, the method must have ‘self’ as an argument that allows it to alter only its property.\n",
    "\n",
    "### Q5. What is the purpose of pseudoprivate attributes?\n",
    "\n",
    "    Ans. The purpose is intended to avoid namespace collisions in instances, not to restrict access to names in general."
   ]
  },
  {
   "cell_type": "code",
   "execution_count": null,
   "id": "9f5a507a",
   "metadata": {},
   "outputs": [],
   "source": []
  }
 ],
 "metadata": {
  "kernelspec": {
   "display_name": "Python 3",
   "language": "python",
   "name": "python3"
  },
  "language_info": {
   "codemirror_mode": {
    "name": "ipython",
    "version": 3
   },
   "file_extension": ".py",
   "mimetype": "text/x-python",
   "name": "python",
   "nbconvert_exporter": "python",
   "pygments_lexer": "ipython3",
   "version": "3.8.8"
  }
 },
 "nbformat": 4,
 "nbformat_minor": 5
}
