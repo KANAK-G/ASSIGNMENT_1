{
 "cells": [
  {
   "cell_type": "markdown",
   "metadata": {},
   "source": [
    "1. What are the differences between operators and values in the following?\n",
    "*\n",
    "'hello'\n",
    "-87.8\n",
    "-\n",
    "/\n",
    "+\n",
    "6\n",
    "\n",
    "Ans. Here clearly, we can see +,-,*,/ are arithmetic operators and -87.8,6,hello are values. \n",
    "operators are used to perform operations on values and variables.\n",
    "In simple words values can be identified as a output. "
   ]
  },
  {
   "cell_type": "code",
   "execution_count": 1,
   "metadata": {},
   "outputs": [
    {
     "name": "stdout",
     "output_type": "stream",
     "text": [
      "10\n",
      "2.6\n",
      "5\n",
      "50\n",
      "hello\n"
     ]
    }
   ],
   "source": [
    "#eg\n",
    "print(5+5)\n",
    "# / this operator gives us quotient value.\n",
    "print(13/5)\n",
    "print(10-5)\n",
    "print(10*5)\n",
    "print('hello')"
   ]
  },
  {
   "cell_type": "markdown",
   "metadata": {},
   "source": [
    "2.What is the difference between string and variable?\n",
    "spam\n",
    "'spam'\n",
    "\n",
    "Ans.Strings are used to record the text information such as name and written in either single or double quote\n",
    "but in variable we used to store data in the form of numerical or alphabetical we can say assign the values."
   ]
  },
  {
   "cell_type": "code",
   "execution_count": 2,
   "metadata": {},
   "outputs": [
    {
     "name": "stdout",
     "output_type": "stream",
     "text": [
      "25\n",
      "hello\n"
     ]
    },
    {
     "data": {
      "text/plain": [
       "'spam'"
      ]
     },
     "execution_count": 2,
     "metadata": {},
     "output_type": "execute_result"
    }
   ],
   "source": [
    "# in spam we can assign either numeric or alphabetic values.\n",
    "spam = 25\n",
    "print(spam)\n",
    "spam = 'hello'\n",
    "print(spam)\n",
    "\n",
    "# using as a string\n",
    "'spam'"
   ]
  },
  {
   "cell_type": "markdown",
   "metadata": {},
   "source": [
    "3.Describe three different data forms.\n",
    "\n",
    "ans. We have 3 data types available in python :\n",
    "    1. String      \n",
    "    2. Integer\n",
    "    3. Float\n",
    "    also we can convert one data type into another. we can see by given instance."
   ]
  },
  {
   "cell_type": "code",
   "execution_count": 3,
   "metadata": {},
   "outputs": [
    {
     "name": "stdout",
     "output_type": "stream",
     "text": [
      "Data is the most expensive currency\n",
      "Data is th\n",
      "35\n",
      "<class 'str'>\n",
      "<class 'int'>\n",
      "<class 'float'>\n",
      "25.0\n",
      "25\n",
      "10rs\n"
     ]
    }
   ],
   "source": [
    "string = 'Data is the most expensive currency'\n",
    "print(string)\n",
    "\n",
    "# traversing the letters by just using index.\n",
    "print(string[0:10])\n",
    "\n",
    "# using len we can find total number of elements including space between them\n",
    "print(len(string))\n",
    "\n",
    "# we can verify the data type of above variable\n",
    "print(type(string))\n",
    "\n",
    "# integer data type\n",
    "a=25\n",
    "print(type(a))\n",
    "\n",
    "# float data type\n",
    "b=25.6\n",
    "print(type(b))\n",
    "\n",
    "# conversion one data type to another one\n",
    "print(float(a))\n",
    "print(int(b))\n",
    "print(str(10)+'rs')\n",
    "      "
   ]
  },
  {
   "cell_type": "markdown",
   "metadata": {},
   "source": [
    "4.What makes up an expression? What are the functions of all expressions?\n",
    "\n",
    "ans. Operands and operators are together make an expression, like a + b - 10.Python expressions only contain identifiers, literals, and operators. We have a lot of operators integer division, remainder,add, subtract many more.\n",
    "By below example it will be easy to understand the functions of all expressions.\n"
   ]
  },
  {
   "cell_type": "code",
   "execution_count": 4,
   "metadata": {},
   "outputs": [
    {
     "name": "stdout",
     "output_type": "stream",
     "text": [
      "Enter any number:15\n",
      "Enter any number:5\n",
      "Enter any string: hello\\\n",
      "a % b - b * a = -75\n",
      "a**3 / b + b= 680.0\n",
      "str(a)+ 'c'= 15c\n",
      "result is false: 10\n"
     ]
    },
    {
     "data": {
      "text/plain": [
       "True"
      ]
     },
     "execution_count": 4,
     "metadata": {},
     "output_type": "execute_result"
    }
   ],
   "source": [
    "# Integer division(/) \n",
    "a = int(input('Enter any number:'))\n",
    "b = int(input('Enter any number:'))\n",
    "c = input(\"Enter any string: \")\n",
    "\n",
    "# Remainder(%)\n",
    "exp1 = a % b - b * a\n",
    "print(\"a % b - b * a =\",exp1)\n",
    "\n",
    "# Power(**)\n",
    "exp2 = a**3 / b + b\n",
    "print(\"a**3 / b + b=\",exp2)\n",
    "exp3 = str(a)+ 'c'\n",
    "print(\"str(a)+ 'c'=\",exp3)\n",
    "\n",
    "# not equal(!=)\n",
    "# and (&)\n",
    "# or (|)\n",
    "\n",
    "if a > 15 and b >5 :\n",
    "    d = a+b\n",
    "    print(\"result is true:\",d)\n",
    "else:\n",
    "    e = a-b\n",
    "    print(\"result is false:\",e)\n",
    "    \n",
    "# check \n",
    "a != b\n",
    "\n",
    "\n"
   ]
  },
  {
   "cell_type": "markdown",
   "metadata": {},
   "source": [
    "5. In this chapter, assignment statements such as spam = 10 were added. \n",
    "What's the difference between a declaration and an expression?\n",
    "\n",
    "ans. Expressions always evaluate to a value, statements don't.\n",
    "variable declaration and assignment are statements because they do not return a value\n",
    "\n",
    "\n"
   ]
  },
  {
   "cell_type": "code",
   "execution_count": 5,
   "metadata": {},
   "outputs": [
    {
     "name": "stdout",
     "output_type": "stream",
     "text": [
      "Hi!\n"
     ]
    }
   ],
   "source": [
    "a = 5\n",
    "if a > 5:\n",
    "    print(\"Hey!\")\n",
    "else:\n",
    "    print(\"Hi!\")"
   ]
  },
  {
   "cell_type": "markdown",
   "metadata": {},
   "source": [
    "6. After running the following code, what does the variable bacon contain?\n",
    "bacon = 22\n",
    "bacon + 1\n",
    "\n",
    "ans. 23\n"
   ]
  },
  {
   "cell_type": "code",
   "execution_count": 7,
   "metadata": {},
   "outputs": [
    {
     "name": "stdout",
     "output_type": "stream",
     "text": [
      "23\n"
     ]
    }
   ],
   "source": [
    "bacon = 22\n",
    "bacon += 1\n",
    "print(bacon)"
   ]
  },
  {
   "cell_type": "markdown",
   "metadata": {},
   "source": [
    "7.What should the values of the following two terms be?\n",
    "'spam' + 'spamspam'\n",
    "'spam' * 3\n",
    "\n",
    "ans. Value1 = spamspamspam , Value2 =  spamspamspam\n"
   ]
  },
  {
   "cell_type": "code",
   "execution_count": 8,
   "metadata": {},
   "outputs": [
    {
     "name": "stdout",
     "output_type": "stream",
     "text": [
      " Value1 = spamspamspam\n",
      "Value2=  spamspamspam\n"
     ]
    }
   ],
   "source": [
    "a = 'spam' + 'spamspam'\n",
    "print(\" Value1 =\",a)\n",
    "\n",
    "b = 'spam' * 3\n",
    "print(\"Value2= \",b)"
   ]
  },
  {
   "cell_type": "markdown",
   "metadata": {},
   "source": [
    "8. Why is it that eggs is a true variable name but 100 is not?\n",
    "ans. In python variable contains only alphanumeric value. It should be started only from the alphabets.\n",
    "     As below we can see in practical-it's showing a syntax error."
   ]
  },
  {
   "cell_type": "code",
   "execution_count": 9,
   "metadata": {},
   "outputs": [
    {
     "name": "stdout",
     "output_type": "stream",
     "text": [
      "True variable: 1000\n",
      "Another way to assign: 2000\n"
     ]
    }
   ],
   "source": [
    "eggs = 1000\n",
    "print('True variable:',eggs)\n",
    "\n",
    "eggs100 = 2000\n",
    "print('Another way to assign:',eggs100)\n",
    "\n",
    "\n",
    "\n"
   ]
  },
  {
   "cell_type": "code",
   "execution_count": 10,
   "metadata": {},
   "outputs": [
    {
     "ename": "SyntaxError",
     "evalue": "invalid syntax (<ipython-input-10-8fd18bcfe662>, line 1)",
     "output_type": "error",
     "traceback": [
      "\u001b[1;36m  File \u001b[1;32m\"<ipython-input-10-8fd18bcfe662>\"\u001b[1;36m, line \u001b[1;32m1\u001b[0m\n\u001b[1;33m    100eggs = 15\u001b[0m\n\u001b[1;37m       ^\u001b[0m\n\u001b[1;31mSyntaxError\u001b[0m\u001b[1;31m:\u001b[0m invalid syntax\n"
     ]
    }
   ],
   "source": [
    "100eggs = 15\n",
    "print(100eggs)"
   ]
  },
  {
   "cell_type": "code",
   "execution_count": null,
   "metadata": {},
   "outputs": [],
   "source": [
    "9. Which of the following three functions may be used to convert a value to an integer,\n",
    "   a floating-point number, or a string?\n",
    "\n",
    "Ans. These 3 functions are str , int, float to convert a one data type to another."
   ]
  },
  {
   "cell_type": "code",
   "execution_count": 11,
   "metadata": {},
   "outputs": [
    {
     "name": "stdout",
     "output_type": "stream",
     "text": [
      "25.0\n",
      "26\n",
      "10rs\n"
     ]
    }
   ],
   "source": [
    "#conversion one data type to another one\n",
    "a = 25\n",
    "b = 26.8\n",
    "print(float(a))\n",
    "print(int(b))\n",
    "print(str(10)+'rs')"
   ]
  },
  {
   "cell_type": "code",
   "execution_count": null,
   "metadata": {},
   "outputs": [],
   "source": [
    "10. What is the error caused by this expression? What would you do about it?\n",
    "'I have eaten ' + 99 + ' burritos.'\n",
    "\n",
    "ans. We cannot concatenate string with integer because having integer value in\n",
    "expression it is showing error. Although we can remove this error by converting intger value\n",
    "into string using str function."
   ]
  },
  {
   "cell_type": "code",
   "execution_count": 12,
   "metadata": {},
   "outputs": [
    {
     "data": {
      "text/plain": [
       "'I have eaten 99 burritos.'"
      ]
     },
     "execution_count": 12,
     "metadata": {},
     "output_type": "execute_result"
    }
   ],
   "source": [
    "'I have eaten ' + str(99) + ' burritos.'"
   ]
  },
  {
   "cell_type": "code",
   "execution_count": null,
   "metadata": {},
   "outputs": [],
   "source": []
  }
 ],
 "metadata": {
  "kernelspec": {
   "display_name": "Python 3",
   "language": "python",
   "name": "python3"
  },
  "language_info": {
   "codemirror_mode": {
    "name": "ipython",
    "version": 3
   },
   "file_extension": ".py",
   "mimetype": "text/x-python",
   "name": "python",
   "nbconvert_exporter": "python",
   "pygments_lexer": "ipython3",
   "version": "3.8.3"
  }
 },
 "nbformat": 4,
 "nbformat_minor": 4
}
