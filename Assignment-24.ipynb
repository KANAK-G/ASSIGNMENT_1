{
 "cells": [
  {
   "cell_type": "markdown",
   "id": "f0525bb9",
   "metadata": {},
   "source": [
    "# Basic Python Assignment - 24"
   ]
  },
  {
   "cell_type": "markdown",
   "id": "e0bb01a4",
   "metadata": {},
   "source": [
    "## Q1. What is the relationship between def statements and lambda expressions ?"
   ]
  },
  {
   "cell_type": "markdown",
   "id": "b0d717bb",
   "metadata": {},
   "source": [
    "## Ans.\n",
    "**Lambda functions:** are operator can have any number of arguments, but it can have only one expression. It cannot contain any statements and it returns a function object which can be assigned to any variable. They can be used in the block they were created.\n",
    "\n",
    "**def functions:** Functions help break our program into smaller and modular chunks. As our program grows larger and larger, functions make it more organised and manageable. They can be called and used anywhere we want."
   ]
  },
  {
   "cell_type": "markdown",
   "id": "8eb6639a",
   "metadata": {},
   "source": [
    "## Using def"
   ]
  },
  {
   "cell_type": "code",
   "execution_count": 2,
   "id": "730e1339",
   "metadata": {},
   "outputs": [
    {
     "data": {
      "text/plain": [
       "17"
      ]
     },
     "execution_count": 2,
     "metadata": {},
     "output_type": "execute_result"
    }
   ],
   "source": [
    "def add(x,y): \n",
    "    return x+y\n",
    "\n",
    "add(5,12)"
   ]
  },
  {
   "cell_type": "markdown",
   "id": "b0db0164",
   "metadata": {},
   "source": [
    "## Using lambda"
   ]
  },
  {
   "cell_type": "code",
   "execution_count": 3,
   "id": "b8f52036",
   "metadata": {},
   "outputs": [
    {
     "name": "stdout",
     "output_type": "stream",
     "text": [
      "17\n"
     ]
    }
   ],
   "source": [
    "g = lambda x,y: x+y\n",
    "\n",
    "print(g(5,12)) "
   ]
  },
  {
   "cell_type": "markdown",
   "id": "5f0bae22",
   "metadata": {},
   "source": [
    "## Q2. What is the benefit of lambda?"
   ]
  },
  {
   "cell_type": "markdown",
   "id": "f9630149",
   "metadata": {},
   "source": [
    "### Ans. There are many benefits of lambda function some are listed below-\n",
    "\n",
    "1.Lambda functions reduce the number of lines of code when compared to normal python function defined using def keyword.\n",
    "\n",
    "2.They are generally used when a function is needed temporarily for a short period of time, often to be used inside another function such as filter, map and reduce.\n",
    "\n",
    "3.Using lambda function, you can define a function and call it immediately at the end of definition. This can’t be done with def functions."
   ]
  },
  {
   "cell_type": "markdown",
   "id": "5090e044",
   "metadata": {},
   "source": [
    "## Q3.Compare and contrast map, filter, and reduce."
   ]
  },
  {
   "cell_type": "markdown",
   "id": "1c94b7bd",
   "metadata": {},
   "source": [
    "## Ans.\n",
    "\n",
    "All three functions take function to apply on iterator and iterator as input. (function_to_apply, list_of_inputs)\n",
    "\n",
    "**MAP function** to each element of iterator and collects result.\n",
    "\n",
    "**FILTER** applies function to each element of iterator and collect those elements for which function returns true. For this function need to return boolean value.\n",
    "\n",
    "**REDUCE** applies rolling computation to sequential pair of elements in iterator. Initially it takes two elements from iterator in sequence, applies function, collect result, then take next element in sequence from iterator, applies function and repeat this until list has single value."
   ]
  },
  {
   "cell_type": "code",
   "execution_count": 7,
   "id": "3a3df156",
   "metadata": {},
   "outputs": [
    {
     "name": "stdout",
     "output_type": "stream",
     "text": [
      "Map :\n",
      " [2, 4, 6, 8]\n",
      "Filter : \n",
      " [4, 6, 8]\n",
      "Reduce : \n",
      " 10\n"
     ]
    }
   ],
   "source": [
    "a=[1,2,3,4] \n",
    "b = list(map(lambda x:x*2, a)) \n",
    "print(\"Map :\\n\",b)\n",
    "\n",
    "lst= [2, 4, 6, 8] \n",
    "m = list(filter(lambda x:x>2, lst)) \n",
    "print(\"Filter : \\n\",m) \n",
    " \n",
    "from functools import reduce \n",
    "p = reduce(lambda x, y: x+y, a) \n",
    "print(\"Reduce : \\n\",p)"
   ]
  },
  {
   "cell_type": "markdown",
   "id": "857806f2",
   "metadata": {},
   "source": [
    "**So the similarity is that they all take a list and a function, the difference is what they do with those parameters.**"
   ]
  },
  {
   "cell_type": "markdown",
   "id": "efccf6ef",
   "metadata": {},
   "source": [
    "## Q4. What are function annotations, and how are they used?\n"
   ]
  },
  {
   "cell_type": "markdown",
   "id": "8210b734",
   "metadata": {},
   "source": [
    "## Ans.\n",
    "Function annotations are arbitrary python expressions that are associated with various part of functions. These expressions are evaluated at compile time and have no life in python’s runtime environment."
   ]
  },
  {
   "cell_type": "markdown",
   "id": "3b908f03",
   "metadata": {},
   "source": [
    "## Q5. What are recursive functions, and how are they used?\n"
   ]
  },
  {
   "cell_type": "markdown",
   "id": "09b07da9",
   "metadata": {},
   "source": [
    "## Ans.\n",
    "\n",
    "Recursive functions are functions that calls itself. It is always made up of 2 portions, the base case and the recursive case.\n",
    "\n",
    "a) The base case is the condition to stop the recursion.\n",
    "\n",
    "b) The recursive case is the part where the function calls on itself.\n"
   ]
  },
  {
   "cell_type": "code",
   "execution_count": 9,
   "id": "8e8ca428",
   "metadata": {},
   "outputs": [
    {
     "name": "stdout",
     "output_type": "stream",
     "text": [
      "120\n"
     ]
    }
   ],
   "source": [
    "def factorial(x):\n",
    "    if x == 1: # This is the base case\n",
    "        return 1\n",
    "\n",
    "    else: # This is the recursive case\n",
    "        return(x * factorial(x-1))\n",
    "\n",
    "print(factorial(5))"
   ]
  },
  {
   "cell_type": "markdown",
   "id": "675e3baa",
   "metadata": {},
   "source": [
    "## Q6. What are some general design guidelines for coding functions?\n"
   ]
  },
  {
   "cell_type": "markdown",
   "id": "262fcb23",
   "metadata": {},
   "source": [
    "## Ans.\n",
    "\n",
    "There are certain coding recommendations that should be kept in mind to be consistent with an errorless and quality of code. \n",
    "\n",
    "### 1. Exception Handling for every critical situation"
   ]
  },
  {
   "cell_type": "code",
   "execution_count": 12,
   "id": "4e8570d9",
   "metadata": {},
   "outputs": [
    {
     "name": "stdout",
     "output_type": "stream",
     "text": [
      "Enter number1 : 5\n",
      "Enter number2 : 0\n",
      "division by zero\n"
     ]
    }
   ],
   "source": [
    "try:\n",
    "    num1 = int(input(\"Enter number1 : \"))\n",
    "    num2 = int(input(\"Enter number2 : \"))\n",
    "    print(num1/num2)\n",
    "    \n",
    "except Exception as e:\n",
    "    print(e)"
   ]
  },
  {
   "cell_type": "markdown",
   "id": "6699c4f4",
   "metadata": {},
   "source": [
    "### 2. Documentation of a Method\n",
    "Documenting every method with proper specification of parameters, return type, and data types. Try to avoid multiple returns from a function, a single generic return is preferred."
   ]
  },
  {
   "cell_type": "code",
   "execution_count": 18,
   "id": "519da8e7",
   "metadata": {},
   "outputs": [
    {
     "data": {
      "text/plain": [
       "'C'"
      ]
     },
     "execution_count": 18,
     "metadata": {},
     "output_type": "execute_result"
    }
   ],
   "source": [
    "# documenting a function\n",
    "def get_grades(marks):\n",
    "    \"\"\"\n",
    "Summary: getting grades from marks\n",
    "Description: This function takes marks as an argument and returns grades\n",
    "params:\n",
    "marks(int) : marks obtained\n",
    ":\n",
    "grade(string) : grade achieved\n",
    "\"\"\"\n",
    "    \n",
    "    if marks > 90:\n",
    "        grade = 'A'\n",
    "    elif marks > 70:\n",
    "        grade = 'B'\n",
    "    else:\n",
    "        grade = 'C'\n",
    "    return grade\n",
    "\n",
    "get_grades(60)"
   ]
  },
  {
   "cell_type": "markdown",
   "id": "a3e49cba",
   "metadata": {},
   "source": [
    "### 3. Use DRY (Don’t Repeat Yourself):\n",
    "Always use the DRY principle to reuse the code. The best way to do it is to use functions and classes. The common functions can be put into a separate utils.py file and can be used several times instead of creating similar functions again and again."
   ]
  },
  {
   "cell_type": "markdown",
   "id": "05b0c287",
   "metadata": {},
   "source": [
    "### 4. What to use? Tuples, Lists of Dictionaries\n",
    "Use tuples when data is non-changeable, dictionaries when you need to map things, and lists if your data can change later on."
   ]
  },
  {
   "cell_type": "markdown",
   "id": "31cce58a",
   "metadata": {},
   "source": [
    "## Conclusion:\n",
    "\n",
    "*The quality code is one that is well structured, well documented, and well explained with comments. The better the quality we write, the more readability it provides and easier it becomes to remember and to understand. To keep the code consistent with PEP8, you can use various IDEs or editors.*"
   ]
  }
 ],
 "metadata": {
  "kernelspec": {
   "display_name": "Python 3",
   "language": "python",
   "name": "python3"
  },
  "language_info": {
   "codemirror_mode": {
    "name": "ipython",
    "version": 3
   },
   "file_extension": ".py",
   "mimetype": "text/x-python",
   "name": "python",
   "nbconvert_exporter": "python",
   "pygments_lexer": "ipython3",
   "version": "3.8.8"
  }
 },
 "nbformat": 4,
 "nbformat_minor": 5
}
