{
 "cells": [
  {
   "cell_type": "markdown",
   "id": "2867df1d",
   "metadata": {},
   "source": [
    "# Python Basic Assignment - 25"
   ]
  },
  {
   "cell_type": "markdown",
   "id": "99f13587",
   "metadata": {},
   "source": [
    "## Q1.What is the difference between enclosing a list comprehension in square brackets and parentheses?"
   ]
  },
  {
   "cell_type": "markdown",
   "id": "3a5da2db",
   "metadata": {},
   "source": [
    "### Ans.\n",
    "1.Brackets and parentheses differ is that square brackets can describe a list comprehension, e.g. [x for x in y] . Whereas the corresponding parenthetic syntax specifies a tuple generator: (x for x in y).\n",
    "\n",
    "2.Other very important difference is that with round brackets we will have a generator and so the memory consumption is much lower in comparison to list with square brackets esspecially when you deal with big lists - generator will eat not only significantly less memory but also will take much less time 'cause you will not need to prebuilt objects in list"
   ]
  },
  {
   "cell_type": "code",
   "execution_count": 1,
   "id": "37d93705",
   "metadata": {},
   "outputs": [
    {
     "data": {
      "text/plain": [
       "[0, 1, 2, 3, 4]"
      ]
     },
     "execution_count": 1,
     "metadata": {},
     "output_type": "execute_result"
    }
   ],
   "source": [
    "[x for x in range(5)] "
   ]
  },
  {
   "cell_type": "code",
   "execution_count": 2,
   "id": "7af88dc7",
   "metadata": {},
   "outputs": [
    {
     "data": {
      "text/plain": [
       "<generator object <genexpr> at 0x000001BE8A9FF580>"
      ]
     },
     "execution_count": 2,
     "metadata": {},
     "output_type": "execute_result"
    }
   ],
   "source": [
    "(x for x in range(5))"
   ]
  },
  {
   "cell_type": "markdown",
   "id": "f10aca5f",
   "metadata": {},
   "source": [
    "## Q2.What is the relationship between generators and iterators?"
   ]
  },
  {
   "cell_type": "markdown",
   "id": "0679558e",
   "metadata": {},
   "source": [
    "## Ans.1.Iterator"
   ]
  },
  {
   "cell_type": "markdown",
   "id": "646b49af",
   "metadata": {},
   "source": [
    "a).An iterator is an object which contains a countable number of values and it is used to iterate over iterable objects like list, tuples, sets, etc. \n",
    "\n",
    "b)They are implemented using a class and a local variable for iterating is not required here, It follows lazy evaluation where the evaluation of the expression will be on hold and stored in the memory until the item is called specifically which helps us to avoid repeated evaluation.\n",
    "\n",
    "c)As lazy evaluation is implemented, it requires only 1 memory location to process the value and when we are using a large dataset then, wastage of RAM space will be reduced the need to load the entire dataset at the same time will not be there."
   ]
  },
  {
   "cell_type": "code",
   "execution_count": 4,
   "id": "c7c40033",
   "metadata": {},
   "outputs": [
    {
     "name": "stdout",
     "output_type": "stream",
     "text": [
      "Ineuron\n",
      "Provides\n",
      "Online\n",
      "Study\n",
      "Materials\n"
     ]
    },
    {
     "ename": "StopIteration",
     "evalue": "",
     "output_type": "error",
     "traceback": [
      "\u001b[1;31m---------------------------------------------------------------------------\u001b[0m",
      "\u001b[1;31mStopIteration\u001b[0m                             Traceback (most recent call last)",
      "\u001b[1;32m<ipython-input-4-b475f5d70a28>\u001b[0m in \u001b[0;36m<module>\u001b[1;34m\u001b[0m\n\u001b[0;32m      5\u001b[0m \u001b[0mprint\u001b[0m\u001b[1;33m(\u001b[0m\u001b[0mnext\u001b[0m\u001b[1;33m(\u001b[0m\u001b[0miter_list\u001b[0m\u001b[1;33m)\u001b[0m\u001b[1;33m)\u001b[0m\u001b[1;33m\u001b[0m\u001b[1;33m\u001b[0m\u001b[0m\n\u001b[0;32m      6\u001b[0m \u001b[0mprint\u001b[0m\u001b[1;33m(\u001b[0m\u001b[0mnext\u001b[0m\u001b[1;33m(\u001b[0m\u001b[0miter_list\u001b[0m\u001b[1;33m)\u001b[0m\u001b[1;33m)\u001b[0m\u001b[1;33m\u001b[0m\u001b[1;33m\u001b[0m\u001b[0m\n\u001b[1;32m----> 7\u001b[1;33m \u001b[0mprint\u001b[0m\u001b[1;33m(\u001b[0m\u001b[0mnext\u001b[0m\u001b[1;33m(\u001b[0m\u001b[0miter_list\u001b[0m\u001b[1;33m)\u001b[0m\u001b[1;33m)\u001b[0m\u001b[1;33m\u001b[0m\u001b[1;33m\u001b[0m\u001b[0m\n\u001b[0m",
      "\u001b[1;31mStopIteration\u001b[0m: "
     ]
    }
   ],
   "source": [
    "iter_list = iter(['Ineuron', 'Provides', 'Online','Study','Materials'])\n",
    "print(next(iter_list))\n",
    "print(next(iter_list))\n",
    "print(next(iter_list))\n",
    "print(next(iter_list))\n",
    "print(next(iter_list))\n",
    "print(next(iter_list))"
   ]
  },
  {
   "cell_type": "markdown",
   "id": "ebae8c9b",
   "metadata": {},
   "source": [
    "**StopIteration raise, when there is no element remain in the list.**"
   ]
  },
  {
   "cell_type": "markdown",
   "id": "4c29a05d",
   "metadata": {},
   "source": [
    "## 2.Generator"
   ]
  },
  {
   "cell_type": "markdown",
   "id": "2f7a1d19",
   "metadata": {},
   "source": [
    "a) It is another way of creating iterators in a simple way where it uses the keyword “yield” instead of returning it in a defined function.\n",
    "\n",
    "b)Generators are implemented using a function. Just as iterators, generators also follow lazy evaluation. Here, the yield function returns the data without affecting or exiting the function. It will return a sequence of data in an iterable format where we need to iterate over the sequence to use the data as they won’t store the entire sequence in the memory."
   ]
  },
  {
   "cell_type": "code",
   "execution_count": 10,
   "id": "2be58bd9",
   "metadata": {},
   "outputs": [
    {
     "name": "stdout",
     "output_type": "stream",
     "text": [
      "The square of numbers are :  1\n",
      "The square of numbers are :  4\n",
      "The square of numbers are :  9\n"
     ]
    }
   ],
   "source": [
    "def square_numbers(n):\n",
    "    for i in range(1, n+1):\n",
    "        yield i*i\n",
    "  \n",
    "  \n",
    "a = square_numbers(3)\n",
    "for i in a:\n",
    "    print(\"The square of numbers are : \",i)"
   ]
  },
  {
   "cell_type": "markdown",
   "id": "4c82567f",
   "metadata": {},
   "source": [
    "## Q3. What are the signs that a function is a generator function?"
   ]
  },
  {
   "cell_type": "markdown",
   "id": "2644dc6d",
   "metadata": {},
   "source": [
    "## Ans.\n",
    "\n",
    "1.Generator function contains one or more yield statements.\n",
    "\n",
    "2.When called, it returns an object (iterator) but does not start execution immediately.\n",
    "\n",
    "3.Methods like __iter__() and __next__() are implemented automatically. So we can iterate through the items using next().\n",
    "\n",
    "4.Once the function yields, the function is paused and the control is transferred to the caller.\n",
    "\n",
    "5.Local variables and their states are remembered between successive calls.\n",
    "\n",
    "6.Finally, when the function terminates, StopIteration is raised automatically on further calls.\n"
   ]
  },
  {
   "cell_type": "code",
   "execution_count": 13,
   "id": "17344c9d",
   "metadata": {},
   "outputs": [
    {
     "name": "stdout",
     "output_type": "stream",
     "text": [
      "o\n",
      "l\n",
      "l\n",
      "e\n",
      "h\n"
     ]
    }
   ],
   "source": [
    "def reverse_string(my_str):\n",
    "    length = len(my_str)\n",
    "    for i in range(length - 1, -1, -1):\n",
    "        yield my_str[i]\n",
    "\n",
    "\n",
    "# For loop to reverse the string\n",
    "for char in reverse_string(\"hello\"):\n",
    "    print(char)"
   ]
  },
  {
   "cell_type": "markdown",
   "id": "e2086482",
   "metadata": {},
   "source": [
    "## Q4. What is the purpose of a yield statement?"
   ]
  },
  {
   "cell_type": "markdown",
   "id": "84993cf4",
   "metadata": {},
   "source": [
    "## Ans."
   ]
  },
  {
   "cell_type": "markdown",
   "id": "f1d8b059",
   "metadata": {},
   "source": [
    "Yield is used to return from a function without destroying the states of its local variable and when the function is called, the execution starts from the last yield statement. \n",
    "\n",
    "Any function that contains a yield keyword is termed a generator. Hence, yield is what makes a generator. \n",
    "\n",
    "Since it stores the local variable states, hence overhead of memory allocation is controlled.\n",
    "Since the old state is retained, the flow doesn’t start from the beginning and hence saves time"
   ]
  },
  {
   "cell_type": "markdown",
   "id": "37da2d6a",
   "metadata": {},
   "source": [
    "## Q5. What is the relationship between map calls and list comprehensions? Make a comparison and contrast between the two."
   ]
  },
  {
   "cell_type": "markdown",
   "id": "596969e7",
   "metadata": {},
   "source": [
    "## Ans. Map "
   ]
  },
  {
   "cell_type": "markdown",
   "id": "6e0e6edb",
   "metadata": {},
   "source": [
    "Suppose we have a function and we want to compute this function for different values in a single line of code . This is where map() function plays its role ! map() function returns a map object(which is an iterator) of the results after applying the given function to each item of a given iterable (list, tuple etc.)"
   ]
  },
  {
   "cell_type": "code",
   "execution_count": 15,
   "id": "4c5bd2b3",
   "metadata": {},
   "outputs": [
    {
     "name": "stdout",
     "output_type": "stream",
     "text": [
      "<map object at 0x000001BE8AA9B6A0>\n",
      "[25, 49, 64, 144, 1]\n"
     ]
    }
   ],
   "source": [
    "def num (n) :\n",
    "    return n **2\n",
    "  \n",
    "# creates a map object\n",
    "\n",
    "x = map(num,[5,7,8,12,-1]) \n",
    "print(x) \n",
    "print(list(x))"
   ]
  },
  {
   "cell_type": "markdown",
   "id": "b4a464ca",
   "metadata": {},
   "source": [
    "## List Comprehensions"
   ]
  },
  {
   "cell_type": "markdown",
   "id": "5d9ea8c0",
   "metadata": {},
   "source": [
    "List Comprehension is a substitute for the lambda function, map(), filter() and reduce(). It follows the form of the mathematical set-builder notation. It provide a concise way to create lists."
   ]
  },
  {
   "cell_type": "code",
   "execution_count": 16,
   "id": "f50c77ed",
   "metadata": {},
   "outputs": [
    {
     "name": "stdout",
     "output_type": "stream",
     "text": [
      "[0, 1, 4, 9, 16]\n"
     ]
    }
   ],
   "source": [
    "x = [i ** 2 for i in range(5)] \n",
    "print(x)"
   ]
  },
  {
   "cell_type": "markdown",
   "id": "9fa27f34",
   "metadata": {},
   "source": [
    "## Map VS List Comprehension\n",
    "\n",
    "1.List comprehension is more concise and easier to read as compared to map.\n",
    "\n",
    "2.List comprehension allows filtering. In map, we have no such facility. For example, to print all even numbers in range of 100, we can write [n for n in range(100) if n%2 == 0]. There is no alternate for it in map.\n",
    "\n",
    "3.List comprehension are used when a list of results is required as map only returns a map object and does not return any list.\n",
    "\n",
    "4.List comprehension is faster than map when we need to evaluate expressions that are too long or complicated to express.\n",
    "\n",
    "5.Map is faster in case of calling an already defined function (as no lambda is required)."
   ]
  },
  {
   "cell_type": "code",
   "execution_count": null,
   "id": "c59bc59a",
   "metadata": {},
   "outputs": [],
   "source": []
  }
 ],
 "metadata": {
  "kernelspec": {
   "display_name": "Python 3",
   "language": "python",
   "name": "python3"
  },
  "language_info": {
   "codemirror_mode": {
    "name": "ipython",
    "version": 3
   },
   "file_extension": ".py",
   "mimetype": "text/x-python",
   "name": "python",
   "nbconvert_exporter": "python",
   "pygments_lexer": "ipython3",
   "version": "3.8.8"
  }
 },
 "nbformat": 4,
 "nbformat_minor": 5
}
