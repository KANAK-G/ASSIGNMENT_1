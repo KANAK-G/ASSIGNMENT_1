{
 "cells": [
  {
   "cell_type": "markdown",
   "id": "14d75011",
   "metadata": {},
   "source": [
    "## Q1. What does an empty dictionary's code look like?"
   ]
  },
  {
   "cell_type": "code",
   "execution_count": 1,
   "id": "3eaf7652",
   "metadata": {},
   "outputs": [
    {
     "name": "stdout",
     "output_type": "stream",
     "text": [
      "<class 'dict'>\n"
     ]
    }
   ],
   "source": [
    "#Ans\n",
    "dic = {}\n",
    "print(type(dic))"
   ]
  },
  {
   "cell_type": "markdown",
   "id": "0140a65d",
   "metadata": {},
   "source": [
    "## Q2. What is the value of a dictionary value with the key 'foo' and the value 42?\n"
   ]
  },
  {
   "cell_type": "code",
   "execution_count": 2,
   "id": "f284315c",
   "metadata": {},
   "outputs": [
    {
     "data": {
      "text/plain": [
       "42"
      ]
     },
     "execution_count": 2,
     "metadata": {},
     "output_type": "execute_result"
    }
   ],
   "source": [
    "#Ans2.\n",
    "dic = {'foo':42}\n",
    "dic['foo']"
   ]
  },
  {
   "cell_type": "markdown",
   "id": "69f5d66f",
   "metadata": {},
   "source": [
    "## Q3. What is the most significant distinction between a dictionary and a list?"
   ]
  },
  {
   "cell_type": "markdown",
   "id": "7f850fc8",
   "metadata": {},
   "source": [
    "### Ans. Both are mutable data types but the most significant distinction between them- in dictionary data is stored in curly braces{},form of keys and values pair but in list we store data in squares bracket[ ] without keys."
   ]
  },
  {
   "cell_type": "code",
   "execution_count": 3,
   "id": "a081532d",
   "metadata": {},
   "outputs": [
    {
     "name": "stdout",
     "output_type": "stream",
     "text": [
      "list =  ['ineuron', True, 13.4, (4+2j)]\n",
      "dic =  {'key1': 45, 'key2': 'values'}\n"
     ]
    }
   ],
   "source": [
    "lis = ['ineuron',True,13.4,4+2j]\n",
    "print('list = ',lis)\n",
    "\n",
    "dic = {'key1':45,'key2':'values'}\n",
    "print('dic = ', dic)"
   ]
  },
  {
   "cell_type": "markdown",
   "id": "e8530cb5",
   "metadata": {},
   "source": [
    "## Q4. What happens if you try to access spam['foo'] if spam is {'bar': 100}?"
   ]
  },
  {
   "cell_type": "markdown",
   "id": "e40293b6",
   "metadata": {},
   "source": [
    "### Ans. It'll throw an error because we don't have any 'foo'  key in spam dictionary."
   ]
  },
  {
   "cell_type": "code",
   "execution_count": 4,
   "id": "d02cc4e8",
   "metadata": {},
   "outputs": [
    {
     "ename": "KeyError",
     "evalue": "'foo'",
     "output_type": "error",
     "traceback": [
      "\u001b[1;31m---------------------------------------------------------------------------\u001b[0m",
      "\u001b[1;31mKeyError\u001b[0m                                  Traceback (most recent call last)",
      "\u001b[1;32m<ipython-input-4-cea1cd791e68>\u001b[0m in \u001b[0;36m<module>\u001b[1;34m\u001b[0m\n\u001b[0;32m      1\u001b[0m \u001b[0mspam\u001b[0m \u001b[1;33m=\u001b[0m \u001b[1;33m{\u001b[0m\u001b[1;34m'bar'\u001b[0m\u001b[1;33m:\u001b[0m\u001b[1;36m100\u001b[0m\u001b[1;33m}\u001b[0m\u001b[1;33m\u001b[0m\u001b[1;33m\u001b[0m\u001b[0m\n\u001b[1;32m----> 2\u001b[1;33m \u001b[0mspam\u001b[0m\u001b[1;33m[\u001b[0m\u001b[1;34m'foo'\u001b[0m\u001b[1;33m]\u001b[0m\u001b[1;33m\u001b[0m\u001b[1;33m\u001b[0m\u001b[0m\n\u001b[0m",
      "\u001b[1;31mKeyError\u001b[0m: 'foo'"
     ]
    }
   ],
   "source": [
    "spam = {'bar':100}\n",
    "spam['foo']"
   ]
  },
  {
   "cell_type": "markdown",
   "id": "be2a3b1f",
   "metadata": {},
   "source": [
    "## Q5. If a dictionary is stored in spam, what is the difference between the expressions 'cat' in spam and 'cat' in spam.keys()?"
   ]
  },
  {
   "cell_type": "markdown",
   "id": "4d83387d",
   "metadata": {},
   "source": [
    "### Ans.'cat' in spam.keys() will tell us whether 'cat' is key or not in particular spam dictionary but 'cat' in spam will tell us that 'cat' exits in spam either in the form of key or value."
   ]
  },
  {
   "cell_type": "code",
   "execution_count": 5,
   "id": "3d022d23",
   "metadata": {},
   "outputs": [
    {
     "name": "stdout",
     "output_type": "stream",
     "text": [
      "True\n",
      "True\n"
     ]
    }
   ],
   "source": [
    "spam = {'cat':100}\n",
    "print('cat' in spam.keys())\n",
    "print('cat' in spam)"
   ]
  },
  {
   "cell_type": "markdown",
   "id": "909fdfda",
   "metadata": {},
   "source": [
    "## Q6. If a dictionary is stored in spam, what is the difference between the expressions 'cat' in spam and 'cat' in spam.values()?"
   ]
  },
  {
   "cell_type": "markdown",
   "id": "f682848f",
   "metadata": {},
   "source": [
    "### Ans.  'cat' in spam tell the existance of 'cat' in dictionary but  'cat' in spam.values() tells 'cat' is value or not. "
   ]
  },
  {
   "cell_type": "code",
   "execution_count": 6,
   "id": "d7dc3e8e",
   "metadata": {},
   "outputs": [
    {
     "data": {
      "text/plain": [
       "True"
      ]
     },
     "execution_count": 6,
     "metadata": {},
     "output_type": "execute_result"
    }
   ],
   "source": [
    "spam = {'cat':100}\n",
    "'cat' in spam"
   ]
  },
  {
   "cell_type": "code",
   "execution_count": 7,
   "id": "76676912",
   "metadata": {},
   "outputs": [
    {
     "data": {
      "text/plain": [
       "False"
      ]
     },
     "execution_count": 7,
     "metadata": {},
     "output_type": "execute_result"
    }
   ],
   "source": [
    "'cat' in spam.values()"
   ]
  },
  {
   "cell_type": "markdown",
   "id": "7eba524a",
   "metadata": {},
   "source": [
    "## Q7. What is a shortcut for the following code?\n",
    "## if 'color' not in spam:\n",
    "## spam['color'] = 'black' "
   ]
  },
  {
   "cell_type": "code",
   "execution_count": 8,
   "id": "8528e9ab",
   "metadata": {},
   "outputs": [
    {
     "name": "stdout",
     "output_type": "stream",
     "text": [
      "{'cat': 100, 'color': 'black'}\n"
     ]
    }
   ],
   "source": [
    "#Ans.7\n",
    "spam = {'cat':100}\n",
    "spam['color'] = 'black' \n",
    "print(spam)"
   ]
  },
  {
   "cell_type": "markdown",
   "id": "cd237c36",
   "metadata": {},
   "source": [
    "## Q8. How do you \"pretty print\" dictionary values using which module and function?"
   ]
  },
  {
   "cell_type": "markdown",
   "id": "eaee3bf4",
   "metadata": {},
   "source": [
    "### Ans.we can use dic.values() function."
   ]
  },
  {
   "cell_type": "code",
   "execution_count": 9,
   "id": "f5d8c191",
   "metadata": {},
   "outputs": [
    {
     "data": {
      "text/plain": [
       "dict_values([45, 'pretty print', 46])"
      ]
     },
     "execution_count": 9,
     "metadata": {},
     "output_type": "execute_result"
    }
   ],
   "source": [
    "dic = {'key1':45,'key2':'pretty print','key3':46}\n",
    "dic.values()"
   ]
  },
  {
   "cell_type": "code",
   "execution_count": null,
   "id": "29d9c655",
   "metadata": {},
   "outputs": [],
   "source": []
  }
 ],
 "metadata": {
  "kernelspec": {
   "display_name": "Python 3",
   "language": "python",
   "name": "python3"
  },
  "language_info": {
   "codemirror_mode": {
    "name": "ipython",
    "version": 3
   },
   "file_extension": ".py",
   "mimetype": "text/x-python",
   "name": "python",
   "nbconvert_exporter": "python",
   "pygments_lexer": "ipython3",
   "version": "3.9.1"
  }
 },
 "nbformat": 4,
 "nbformat_minor": 5
}
